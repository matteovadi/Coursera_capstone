{
 "cells": [
  {
   "cell_type": "markdown",
   "metadata": {},
   "source": [
    "<h1><center><i>\"Predicting Airbnb room price in New York City for 2019\"</i></center></h1>"
   ]
  },
  {
   "cell_type": "markdown",
   "metadata": {},
   "source": [
    "![title](LOGO_UNISI_VERTICALE_NERO_piccolo.jpg)"
   ]
  },
  {
   "cell_type": "markdown",
   "metadata": {},
   "source": [
    "<h2><center>Department of Information Engineering and Mathematics</center></h2>\n",
    "<h3><center>M.Sc. in Engineering Management, University of Siena</center></h3>\n",
    "<p><center>Programming for Data Science course - project work</center></p>"
   ]
  },
  {
   "cell_type": "markdown",
   "metadata": {},
   "source": [
    "<DIV align = \"right\">Matteo Vadi</DIV>\n",
    "<DIV align = \"right\">University ID: 092663</DIV>\n",
    "<DIV align = \"right\">matteo.vadi@student.unisi.it</DIV>\n",
    "<DIV align = \"right\">Siena - 13<sup>th</sup> of January, 2021</DIV>"
   ]
  },
  {
   "cell_type": "markdown",
   "metadata": {},
   "source": [
    "---"
   ]
  },
  {
   "cell_type": "markdown",
   "metadata": {},
   "source": [
    "# 1. Introduction: Problem identification"
   ]
  },
  {
   "cell_type": "markdown",
   "metadata": {},
   "source": [
    "All of us have to look for a place to stay for a longer or shorter time period, at least once in our lives. Airbnb platform could help in these situations. **Airbnb, Inc.** is an American vacation rental online marketplace company based in San Francisco, California US. It allows to host and rent different properties, accessible to consumers on its website or via an App. Through the service, users can arrange lodging, primarily homestays, and tourism experiences or list their properties for rental.\n",
    "This works deal with `Machine Learning` algorithms applied to a dataset concerning **rental properties** on Airbnb platform in **New York City** for **2019**."
   ]
  },
  {
   "cell_type": "markdown",
   "metadata": {},
   "source": [
    "This project aims to **predict** the **room price** for each of the 3 different types of rental properties you can find in the original dataset (“Entire home / apartment”, “Private room” and “Shared room”), depending on the **most informative features**, accurately selected, comparing different Machine Learning models. To go in-depth, since there is a target variable which is continuous, I decided to analyse different `regression models` and comparing them using specific accuracy and performances measures. The regression models explored in this work are:\n",
    "<ul>\n",
    "  <li><b>Multiple Linear Regression</b></li>\n",
    "  <li><b>Ridge Regression</b></li>\n",
    "  <li><b>Elastic-nets Regression</b></li>\n",
    "  <li><b>Lasso Regression</b></li>\n",
    "</ul>\n",
    "\n",
    "In doing the project work, we will also try to determine which are **hosts** are the **busiest** and why.\n"
   ]
  },
  {
   "cell_type": "markdown",
   "metadata": {},
   "source": [
    "First, we will import useful `Python libraries` for the aim of the project."
   ]
  },
  {
   "cell_type": "code",
   "execution_count": 1,
   "metadata": {},
   "outputs": [
    {
     "name": "stdout",
     "output_type": "stream",
     "text": [
      "Libraries imported.\n"
     ]
    }
   ],
   "source": [
    "#### Importing some libraries ####\n",
    "import numpy as np\n",
    "import pandas as pd\n",
    "import matplotlib.pyplot as plt\n",
    "import seaborn as sns\n",
    "from sklearn import preprocessing, metrics\n",
    "from sklearn.linear_model import LinearRegression\n",
    "from sklearn.linear_model import Lasso, Ridge, ElasticNet\n",
    "from sklearn.model_selection import train_test_split\n",
    "from sklearn.model_selection import KFold\n",
    "from sklearn.model_selection import GridSearchCV\n",
    "print('Libraries imported.')"
   ]
  },
  {
   "cell_type": "markdown",
   "metadata": {},
   "source": [
    "---"
   ]
  },
  {
   "cell_type": "markdown",
   "metadata": {},
   "source": [
    "# 2.   Dataset"
   ]
  },
  {
   "cell_type": "markdown",
   "metadata": {},
   "source": [
    "The original dataset describes the listing activity and metrics in NYC for 2019. You can find it to the [Kaggle website](https://www.kaggle.com/dgomonov/new-york-city-airbnb-open-data) but in the first place, it is part of [Airbnb's open data](http://insideairbnb.com).\n",
    "The data file includes all needed information to find out more about hosts, geographical availability, necessary metrics to make predictions and draw conclusions."
   ]
  },
  {
   "cell_type": "code",
   "execution_count": 2,
   "metadata": {},
   "outputs": [],
   "source": [
    "# Importing the dataset stored in the same folder of this notebook\n",
    "airbnb = pd.read_csv('airbnb.csv')"
   ]
  },
  {
   "cell_type": "code",
   "execution_count": 3,
   "metadata": {},
   "outputs": [
    {
     "name": "stdout",
     "output_type": "stream",
     "text": [
      "The airbnb dataframe shows 48895 records (rows) and 16 attributes (columns)\n"
     ]
    },
    {
     "data": {
      "text/html": [
       "<div>\n",
       "<style scoped>\n",
       "    .dataframe tbody tr th:only-of-type {\n",
       "        vertical-align: middle;\n",
       "    }\n",
       "\n",
       "    .dataframe tbody tr th {\n",
       "        vertical-align: top;\n",
       "    }\n",
       "\n",
       "    .dataframe thead th {\n",
       "        text-align: right;\n",
       "    }\n",
       "</style>\n",
       "<table border=\"1\" class=\"dataframe\">\n",
       "  <thead>\n",
       "    <tr style=\"text-align: right;\">\n",
       "      <th></th>\n",
       "      <th>id</th>\n",
       "      <th>name</th>\n",
       "      <th>host_id</th>\n",
       "      <th>host_name</th>\n",
       "      <th>neighbourhood_group</th>\n",
       "      <th>neighbourhood</th>\n",
       "      <th>latitude</th>\n",
       "      <th>longitude</th>\n",
       "      <th>room_type</th>\n",
       "      <th>price</th>\n",
       "      <th>minimum_nights</th>\n",
       "      <th>number_of_reviews</th>\n",
       "      <th>last_review</th>\n",
       "      <th>reviews_per_month</th>\n",
       "      <th>calculated_host_listings_count</th>\n",
       "      <th>availability_365</th>\n",
       "    </tr>\n",
       "  </thead>\n",
       "  <tbody>\n",
       "    <tr>\n",
       "      <th>0</th>\n",
       "      <td>2539</td>\n",
       "      <td>Clean &amp; quiet apt home by the park</td>\n",
       "      <td>2787</td>\n",
       "      <td>John</td>\n",
       "      <td>Brooklyn</td>\n",
       "      <td>Kensington</td>\n",
       "      <td>40.64749</td>\n",
       "      <td>-73.97237</td>\n",
       "      <td>Private room</td>\n",
       "      <td>149</td>\n",
       "      <td>1</td>\n",
       "      <td>9</td>\n",
       "      <td>2018-10-19</td>\n",
       "      <td>0.21</td>\n",
       "      <td>6</td>\n",
       "      <td>365</td>\n",
       "    </tr>\n",
       "    <tr>\n",
       "      <th>1</th>\n",
       "      <td>2595</td>\n",
       "      <td>Skylit Midtown Castle</td>\n",
       "      <td>2845</td>\n",
       "      <td>Jennifer</td>\n",
       "      <td>Manhattan</td>\n",
       "      <td>Midtown</td>\n",
       "      <td>40.75362</td>\n",
       "      <td>-73.98377</td>\n",
       "      <td>Entire home/apt</td>\n",
       "      <td>225</td>\n",
       "      <td>1</td>\n",
       "      <td>45</td>\n",
       "      <td>2019-05-21</td>\n",
       "      <td>0.38</td>\n",
       "      <td>2</td>\n",
       "      <td>355</td>\n",
       "    </tr>\n",
       "    <tr>\n",
       "      <th>2</th>\n",
       "      <td>3647</td>\n",
       "      <td>THE VILLAGE OF HARLEM....NEW YORK !</td>\n",
       "      <td>4632</td>\n",
       "      <td>Elisabeth</td>\n",
       "      <td>Manhattan</td>\n",
       "      <td>Harlem</td>\n",
       "      <td>40.80902</td>\n",
       "      <td>-73.94190</td>\n",
       "      <td>Private room</td>\n",
       "      <td>150</td>\n",
       "      <td>3</td>\n",
       "      <td>0</td>\n",
       "      <td>NaN</td>\n",
       "      <td>NaN</td>\n",
       "      <td>1</td>\n",
       "      <td>365</td>\n",
       "    </tr>\n",
       "    <tr>\n",
       "      <th>3</th>\n",
       "      <td>3831</td>\n",
       "      <td>Cozy Entire Floor of Brownstone</td>\n",
       "      <td>4869</td>\n",
       "      <td>LisaRoxanne</td>\n",
       "      <td>Brooklyn</td>\n",
       "      <td>Clinton Hill</td>\n",
       "      <td>40.68514</td>\n",
       "      <td>-73.95976</td>\n",
       "      <td>Entire home/apt</td>\n",
       "      <td>89</td>\n",
       "      <td>1</td>\n",
       "      <td>270</td>\n",
       "      <td>2019-07-05</td>\n",
       "      <td>4.64</td>\n",
       "      <td>1</td>\n",
       "      <td>194</td>\n",
       "    </tr>\n",
       "    <tr>\n",
       "      <th>4</th>\n",
       "      <td>5022</td>\n",
       "      <td>Entire Apt: Spacious Studio/Loft by central park</td>\n",
       "      <td>7192</td>\n",
       "      <td>Laura</td>\n",
       "      <td>Manhattan</td>\n",
       "      <td>East Harlem</td>\n",
       "      <td>40.79851</td>\n",
       "      <td>-73.94399</td>\n",
       "      <td>Entire home/apt</td>\n",
       "      <td>80</td>\n",
       "      <td>10</td>\n",
       "      <td>9</td>\n",
       "      <td>2018-11-19</td>\n",
       "      <td>0.10</td>\n",
       "      <td>1</td>\n",
       "      <td>0</td>\n",
       "    </tr>\n",
       "    <tr>\n",
       "      <th>...</th>\n",
       "      <td>...</td>\n",
       "      <td>...</td>\n",
       "      <td>...</td>\n",
       "      <td>...</td>\n",
       "      <td>...</td>\n",
       "      <td>...</td>\n",
       "      <td>...</td>\n",
       "      <td>...</td>\n",
       "      <td>...</td>\n",
       "      <td>...</td>\n",
       "      <td>...</td>\n",
       "      <td>...</td>\n",
       "      <td>...</td>\n",
       "      <td>...</td>\n",
       "      <td>...</td>\n",
       "      <td>...</td>\n",
       "    </tr>\n",
       "    <tr>\n",
       "      <th>48890</th>\n",
       "      <td>36484665</td>\n",
       "      <td>Charming one bedroom - newly renovated rowhouse</td>\n",
       "      <td>8232441</td>\n",
       "      <td>Sabrina</td>\n",
       "      <td>Brooklyn</td>\n",
       "      <td>Bedford-Stuyvesant</td>\n",
       "      <td>40.67853</td>\n",
       "      <td>-73.94995</td>\n",
       "      <td>Private room</td>\n",
       "      <td>70</td>\n",
       "      <td>2</td>\n",
       "      <td>0</td>\n",
       "      <td>NaN</td>\n",
       "      <td>NaN</td>\n",
       "      <td>2</td>\n",
       "      <td>9</td>\n",
       "    </tr>\n",
       "    <tr>\n",
       "      <th>48891</th>\n",
       "      <td>36485057</td>\n",
       "      <td>Affordable room in Bushwick/East Williamsburg</td>\n",
       "      <td>6570630</td>\n",
       "      <td>Marisol</td>\n",
       "      <td>Brooklyn</td>\n",
       "      <td>Bushwick</td>\n",
       "      <td>40.70184</td>\n",
       "      <td>-73.93317</td>\n",
       "      <td>Private room</td>\n",
       "      <td>40</td>\n",
       "      <td>4</td>\n",
       "      <td>0</td>\n",
       "      <td>NaN</td>\n",
       "      <td>NaN</td>\n",
       "      <td>2</td>\n",
       "      <td>36</td>\n",
       "    </tr>\n",
       "    <tr>\n",
       "      <th>48892</th>\n",
       "      <td>36485431</td>\n",
       "      <td>Sunny Studio at Historical Neighborhood</td>\n",
       "      <td>23492952</td>\n",
       "      <td>Ilgar &amp; Aysel</td>\n",
       "      <td>Manhattan</td>\n",
       "      <td>Harlem</td>\n",
       "      <td>40.81475</td>\n",
       "      <td>-73.94867</td>\n",
       "      <td>Entire home/apt</td>\n",
       "      <td>115</td>\n",
       "      <td>10</td>\n",
       "      <td>0</td>\n",
       "      <td>NaN</td>\n",
       "      <td>NaN</td>\n",
       "      <td>1</td>\n",
       "      <td>27</td>\n",
       "    </tr>\n",
       "    <tr>\n",
       "      <th>48893</th>\n",
       "      <td>36485609</td>\n",
       "      <td>43rd St. Time Square-cozy single bed</td>\n",
       "      <td>30985759</td>\n",
       "      <td>Taz</td>\n",
       "      <td>Manhattan</td>\n",
       "      <td>Hell's Kitchen</td>\n",
       "      <td>40.75751</td>\n",
       "      <td>-73.99112</td>\n",
       "      <td>Shared room</td>\n",
       "      <td>55</td>\n",
       "      <td>1</td>\n",
       "      <td>0</td>\n",
       "      <td>NaN</td>\n",
       "      <td>NaN</td>\n",
       "      <td>6</td>\n",
       "      <td>2</td>\n",
       "    </tr>\n",
       "    <tr>\n",
       "      <th>48894</th>\n",
       "      <td>36487245</td>\n",
       "      <td>Trendy duplex in the very heart of Hell's Kitchen</td>\n",
       "      <td>68119814</td>\n",
       "      <td>Christophe</td>\n",
       "      <td>Manhattan</td>\n",
       "      <td>Hell's Kitchen</td>\n",
       "      <td>40.76404</td>\n",
       "      <td>-73.98933</td>\n",
       "      <td>Private room</td>\n",
       "      <td>90</td>\n",
       "      <td>7</td>\n",
       "      <td>0</td>\n",
       "      <td>NaN</td>\n",
       "      <td>NaN</td>\n",
       "      <td>1</td>\n",
       "      <td>23</td>\n",
       "    </tr>\n",
       "  </tbody>\n",
       "</table>\n",
       "<p>48895 rows × 16 columns</p>\n",
       "</div>"
      ],
      "text/plain": [
       "             id                                               name   host_id  \\\n",
       "0          2539                 Clean & quiet apt home by the park      2787   \n",
       "1          2595                              Skylit Midtown Castle      2845   \n",
       "2          3647                THE VILLAGE OF HARLEM....NEW YORK !      4632   \n",
       "3          3831                    Cozy Entire Floor of Brownstone      4869   \n",
       "4          5022   Entire Apt: Spacious Studio/Loft by central park      7192   \n",
       "...         ...                                                ...       ...   \n",
       "48890  36484665    Charming one bedroom - newly renovated rowhouse   8232441   \n",
       "48891  36485057      Affordable room in Bushwick/East Williamsburg   6570630   \n",
       "48892  36485431            Sunny Studio at Historical Neighborhood  23492952   \n",
       "48893  36485609               43rd St. Time Square-cozy single bed  30985759   \n",
       "48894  36487245  Trendy duplex in the very heart of Hell's Kitchen  68119814   \n",
       "\n",
       "           host_name neighbourhood_group       neighbourhood  latitude  \\\n",
       "0               John            Brooklyn          Kensington  40.64749   \n",
       "1           Jennifer           Manhattan             Midtown  40.75362   \n",
       "2          Elisabeth           Manhattan              Harlem  40.80902   \n",
       "3        LisaRoxanne            Brooklyn        Clinton Hill  40.68514   \n",
       "4              Laura           Manhattan         East Harlem  40.79851   \n",
       "...              ...                 ...                 ...       ...   \n",
       "48890        Sabrina            Brooklyn  Bedford-Stuyvesant  40.67853   \n",
       "48891        Marisol            Brooklyn            Bushwick  40.70184   \n",
       "48892  Ilgar & Aysel           Manhattan              Harlem  40.81475   \n",
       "48893            Taz           Manhattan      Hell's Kitchen  40.75751   \n",
       "48894     Christophe           Manhattan      Hell's Kitchen  40.76404   \n",
       "\n",
       "       longitude        room_type  price  minimum_nights  number_of_reviews  \\\n",
       "0      -73.97237     Private room    149               1                  9   \n",
       "1      -73.98377  Entire home/apt    225               1                 45   \n",
       "2      -73.94190     Private room    150               3                  0   \n",
       "3      -73.95976  Entire home/apt     89               1                270   \n",
       "4      -73.94399  Entire home/apt     80              10                  9   \n",
       "...          ...              ...    ...             ...                ...   \n",
       "48890  -73.94995     Private room     70               2                  0   \n",
       "48891  -73.93317     Private room     40               4                  0   \n",
       "48892  -73.94867  Entire home/apt    115              10                  0   \n",
       "48893  -73.99112      Shared room     55               1                  0   \n",
       "48894  -73.98933     Private room     90               7                  0   \n",
       "\n",
       "      last_review  reviews_per_month  calculated_host_listings_count  \\\n",
       "0      2018-10-19               0.21                               6   \n",
       "1      2019-05-21               0.38                               2   \n",
       "2             NaN                NaN                               1   \n",
       "3      2019-07-05               4.64                               1   \n",
       "4      2018-11-19               0.10                               1   \n",
       "...           ...                ...                             ...   \n",
       "48890         NaN                NaN                               2   \n",
       "48891         NaN                NaN                               2   \n",
       "48892         NaN                NaN                               1   \n",
       "48893         NaN                NaN                               6   \n",
       "48894         NaN                NaN                               1   \n",
       "\n",
       "       availability_365  \n",
       "0                   365  \n",
       "1                   355  \n",
       "2                   365  \n",
       "3                   194  \n",
       "4                     0  \n",
       "...                 ...  \n",
       "48890                 9  \n",
       "48891                36  \n",
       "48892                27  \n",
       "48893                 2  \n",
       "48894                23  \n",
       "\n",
       "[48895 rows x 16 columns]"
      ]
     },
     "execution_count": 3,
     "metadata": {},
     "output_type": "execute_result"
    }
   ],
   "source": [
    "# Visualizing head and tail of the original dataset and printing the number of rows and columns (airbnb.shape --> tuple)\n",
    "print('The airbnb dataframe shows {} records (rows) and {} attributes (columns)'.format(airbnb.shape[0], airbnb.shape[1]))\n",
    "airbnb"
   ]
  },
  {
   "cell_type": "markdown",
   "metadata": {},
   "source": [
    "Below, the list of all the **16 attributes** you can find in the original dataset:\n",
    "- **`id`**: an integer number indicating a specific listing;\n",
    "- **`name`**: the name of the listing;\n",
    "- **`host_id`**: an integer number indicating a specific host;\n",
    "- **`host_name`**: the name of the host;\n",
    "- **`neighbourhood_group`**: the NYC's borough the listing belongs to;\n",
    "- **`neighbourhood`**: the NYC's neighbourhood the listing belongs to;\n",
    "- **`latitude`**: the latitude geo-coordinate for the listing;\n",
    "- **`longitude`**: the longitude geo-coordinate for the listing;\n",
    "- **`room_type`**: one of the three listing space types;\n",
    "- **`price`**: the price in dollars; \n",
    "- **`minimum_nights`**: the minimum number of nights you can rent the property;\n",
    "- **`number_of_reviews`**: the number of reviews the rental property got in the platform;\n",
    "- **`last_review`**: the date of the last review the rental property got in the platform;\n",
    "- **`reviews_per_month`**: the number of review per month the rental property got in the platform;\n",
    "- **`calculated_host_listings_count`**: the amount of listings an host has submitted in the platform;\n",
    "- **`availability_365`**: number of days in an year when listing is available for booking."
   ]
  },
  {
   "cell_type": "code",
   "execution_count": 4,
   "metadata": {},
   "outputs": [
    {
     "data": {
      "text/plain": [
       "id                                  int64\n",
       "name                               object\n",
       "host_id                             int64\n",
       "host_name                          object\n",
       "neighbourhood_group                object\n",
       "neighbourhood                      object\n",
       "latitude                          float64\n",
       "longitude                         float64\n",
       "room_type                          object\n",
       "price                               int64\n",
       "minimum_nights                      int64\n",
       "number_of_reviews                   int64\n",
       "last_review                        object\n",
       "reviews_per_month                 float64\n",
       "calculated_host_listings_count      int64\n",
       "availability_365                    int64\n",
       "dtype: object"
      ]
     },
     "execution_count": 4,
     "metadata": {},
     "output_type": "execute_result"
    }
   ],
   "source": [
    "# Understanding data types\n",
    "airbnb.dtypes"
   ]
  },
  {
   "cell_type": "markdown",
   "metadata": {},
   "source": [
    "Not all the features will be used in doing such a project work. We will take care about the useless features in the **Model development** section.\n",
    "\n",
    "The following section aims to understand in-depth each attributes which belongs to the orignal dataset, in terms of ***unique***, ***duplicates*** and ***missing values***."
   ]
  },
  {
   "cell_type": "markdown",
   "metadata": {},
   "source": [
    "## 2.1 - Understanding features"
   ]
  },
  {
   "cell_type": "markdown",
   "metadata": {},
   "source": [
    "The following analysis has been realized in order to extract some useful information for understanding the dataset. In particular, I focused on **unique values** for features in which counting the distinct values makes sense (i.e. it's reasonable to have the same values repeated), thus for **room_type**, **neighbourhood_group** and **neighbourhood**."
   ]
  },
  {
   "cell_type": "code",
   "execution_count": 5,
   "metadata": {},
   "outputs": [
    {
     "data": {
      "text/plain": [
       "Entire home/apt    25409\n",
       "Private room       22326\n",
       "Shared room         1160\n",
       "Name: room_type, dtype: int64"
      ]
     },
     "execution_count": 5,
     "metadata": {},
     "output_type": "execute_result"
    }
   ],
   "source": [
    "# Checking the different rental properties in the dataset\n",
    "airbnb['room_type'].value_counts()"
   ]
  },
  {
   "cell_type": "markdown",
   "metadata": {},
   "source": [
    "The output above shows that there are **3 different rental properties** in the original dataset. They are:\n",
    "- **Entire home/apartment**\n",
    "- **Private room**\n",
    "- **Shared room** \n",
    "\n",
    "The most populated ones are **Entire home/apartment** and **Private room**."
   ]
  },
  {
   "cell_type": "code",
   "execution_count": 6,
   "metadata": {},
   "outputs": [
    {
     "data": {
      "text/plain": [
       "Manhattan        21661\n",
       "Brooklyn         20104\n",
       "Queens            5666\n",
       "Bronx             1091\n",
       "Staten Island      373\n",
       "Name: neighbourhood_group, dtype: int64"
      ]
     },
     "execution_count": 6,
     "metadata": {},
     "output_type": "execute_result"
    }
   ],
   "source": [
    "# Checking the different boroughs in the dataset\n",
    "airbnb['neighbourhood_group'].value_counts()"
   ]
  },
  {
   "cell_type": "markdown",
   "metadata": {},
   "source": [
    "Exploring the dataset, we can se that there are **5 different boroughs** in the orignal dataset. They are:\n",
    "- **Bronx**\n",
    "- **Brooklyn**\n",
    "- **Manhattan** \n",
    "- **Queens**\n",
    "- **Staten Island** \n",
    "\n",
    "The most populated ones are **Brooklyn** and **Manhattan**, while the less populated is **Staten Island**."
   ]
  },
  {
   "cell_type": "code",
   "execution_count": 7,
   "metadata": {},
   "outputs": [
    {
     "data": {
      "text/plain": [
       "Williamsburg          3920\n",
       "Bedford-Stuyvesant    3714\n",
       "Harlem                2658\n",
       "Bushwick              2465\n",
       "Upper West Side       1971\n",
       "                      ... \n",
       "Woodrow                  1\n",
       "Rossville                1\n",
       "Willowbrook              1\n",
       "Richmondtown             1\n",
       "New Dorp                 1\n",
       "Name: neighbourhood, Length: 221, dtype: int64"
      ]
     },
     "execution_count": 7,
     "metadata": {},
     "output_type": "execute_result"
    }
   ],
   "source": [
    "# Checking the different neighbourhoods in the dataset\n",
    "airbnb['neighbourhood'].value_counts()"
   ]
  },
  {
   "cell_type": "code",
   "execution_count": 8,
   "metadata": {},
   "outputs": [
    {
     "data": {
      "text/plain": [
       "Lighthouse Hill               2\n",
       "West Farms                    2\n",
       "Bay Terrace, Staten Island    2\n",
       "Silver Lake                   2\n",
       "Howland Hook                  2\n",
       "Westerleigh                   2\n",
       "Co-op City                    2\n",
       "Fort Wadsworth                1\n",
       "Woodrow                       1\n",
       "Rossville                     1\n",
       "Willowbrook                   1\n",
       "Richmondtown                  1\n",
       "New Dorp                      1\n",
       "Name: neighbourhood, dtype: int64"
      ]
     },
     "execution_count": 8,
     "metadata": {},
     "output_type": "execute_result"
    }
   ],
   "source": [
    "# Checking the less populated neighbourhoods in the dataset (with only 1 or 2 listings)\n",
    "airbnb['neighbourhood'].value_counts()[airbnb['neighbourhood'].value_counts().isin([1,2])]"
   ]
  },
  {
   "cell_type": "markdown",
   "metadata": {},
   "source": [
    "For what concerns neighbourhoods, we can se that there are **221 different values** in the orignal dataset. The most populated ones are **Williamsburg** and **Bedford-Stuyvesant**. \n",
    "\n",
    "The less populated neighbourhoods instead, presenting only 1 listing, are:\n",
    "- **Fort Wadsworth**\n",
    "- **New Dorp**\n",
    "- **Richmondtown**\n",
    "- **Rossville**\n",
    "- **Willowbrook**\n",
    "- **Woodrow**\n",
    "\n",
    "The ones presenting 2 listings are:\n",
    "- **Bay Terrace, Staten Island**\n",
    "- **Co-op City**\n",
    "- **Howland Hook**\n",
    "- **Lighthouse Hill**\n",
    "- **Silver Lake**\n",
    "- **West Farms**\n",
    "- **Westerleigh**"
   ]
  },
  {
   "cell_type": "markdown",
   "metadata": {},
   "source": [
    "We will take in consideration these aspects for the 3 attributes just analyzed in the following operations."
   ]
  },
  {
   "cell_type": "markdown",
   "metadata": {},
   "source": [
    "## 2.2 - Data cleaning and preparation"
   ]
  },
  {
   "cell_type": "markdown",
   "metadata": {},
   "source": [
    "This part aims to deal with **missing** and **duplicates values**, in order to prepare the dataset to be explored and then processed. Let's start with NA values."
   ]
  },
  {
   "cell_type": "code",
   "execution_count": 9,
   "metadata": {},
   "outputs": [
    {
     "data": {
      "text/plain": [
       "id                                    0\n",
       "name                                 16\n",
       "host_id                               0\n",
       "host_name                            21\n",
       "neighbourhood_group                   0\n",
       "neighbourhood                         0\n",
       "latitude                              0\n",
       "longitude                             0\n",
       "room_type                             0\n",
       "price                                 0\n",
       "minimum_nights                        0\n",
       "number_of_reviews                     0\n",
       "last_review                       10052\n",
       "reviews_per_month                 10052\n",
       "calculated_host_listings_count        0\n",
       "availability_365                      0\n",
       "dtype: int64"
      ]
     },
     "execution_count": 9,
     "metadata": {},
     "output_type": "execute_result"
    }
   ],
   "source": [
    "# Checking missing values in the dataset\n",
    "airbnb.isnull().sum()"
   ]
  },
  {
   "cell_type": "markdown",
   "metadata": {},
   "source": [
    "So, let's explore in a deeper way the attributes involving missing values. Those are:\n",
    "- **name**\n",
    "- **host_name**\n",
    "- **last_review**\n",
    "- **reviews_per_month**\n",
    "\n",
    "From now on, the goal will be to understand how these missing values are spread among distinct values previously found (for **room_type**, **neighbourhood_group** and **neighbourhood**), just to be sure that an eventual drop would not change the underline distribution of the values for each specific feature, avoiding the so called **Selection Bias**. Let's start considering only **host_name** feature."
   ]
  },
  {
   "cell_type": "code",
   "execution_count": 10,
   "metadata": {},
   "outputs": [
    {
     "name": "stdout",
     "output_type": "stream",
     "text": [
      "\n",
      "Missing values for host_name, grouped by rental properties:\n",
      "\n",
      "room_type\n",
      "Entire home/apt     9\n",
      "Private room       12\n",
      "Name: id, dtype: int64\n"
     ]
    }
   ],
   "source": [
    "# Missing values for name and host_name grouped by rental properties (which room_type shows more NA values with respect to name and host_name attributes)\n",
    "print('\\nMissing values for host_name, grouped by rental properties:\\n')\n",
    "print(airbnb[airbnb[\"host_name\"].isna()==True].groupby(\"room_type\")[\"id\"].count())"
   ]
  },
  {
   "cell_type": "code",
   "execution_count": 11,
   "metadata": {},
   "outputs": [
    {
     "name": "stdout",
     "output_type": "stream",
     "text": [
      "\n",
      "Missing values for host_name, grouped by boroughs:\n",
      "\n",
      "neighbourhood_group\n",
      "Bronx        1\n",
      "Brooklyn     9\n",
      "Manhattan    9\n",
      "Queens       2\n",
      "Name: id, dtype: int64\n"
     ]
    }
   ],
   "source": [
    "# Missing values for name and host_name grouped by NYC's boroughs (which borough shows more NA values with respect to name and host_name attributes)\n",
    "print('\\nMissing values for host_name, grouped by boroughs:\\n')\n",
    "print(airbnb[airbnb[\"host_name\"].isna()==True].groupby(\"neighbourhood_group\")[\"id\"].count())"
   ]
  },
  {
   "cell_type": "code",
   "execution_count": 12,
   "metadata": {},
   "outputs": [
    {
     "name": "stdout",
     "output_type": "stream",
     "text": [
      "\n",
      "Missing values for host_name, grouped by neighbourhoods:\n",
      "\n",
      "neighbourhood\n",
      "Bushwick            1\n",
      "Chelsea             1\n",
      "Crown Heights       1\n",
      "Ditmars Steinway    1\n",
      "East Flatbush       2\n",
      "East Harlem         1\n",
      "Flatbush            2\n",
      "Greenpoint          2\n",
      "Harlem              2\n",
      "Hell's Kitchen      3\n",
      "Highbridge          1\n",
      "Queens Village      1\n",
      "Upper East Side     1\n",
      "Upper West Side     1\n",
      "Williamsburg        1\n",
      "Name: id, dtype: int64\n"
     ]
    }
   ],
   "source": [
    "# Missing values for name and host_name grouped by neighbourhoods (which neighbourhood shows more NA values with respect to name and host_name attributes)\n",
    "print('\\nMissing values for host_name, grouped by neighbourhoods:\\n')\n",
    "print(airbnb[airbnb[\"host_name\"].isna()==True].groupby(\"neighbourhood\")[\"id\"].count())"
   ]
  },
  {
   "cell_type": "markdown",
   "metadata": {},
   "source": [
    "The ***host_name*** feature involves very few missing values, with respect to the entire dataset's shape (only **21** compared to the **48895** records in the original dataset); moreover, they mainly refer to the most populated rental properties (**Entire home/apartment** and **Private room**) and boroughs (**Brooklyn** and **Manhattan**). \n",
    "\n",
    "The only problem could be connected to the **neighbourhood** attribute, since some neighbourhoods (the ones with only 1, 2 or 3 listings) would have been completely removed from the dataset in case of dropping NA values; fortunately, missing values connected to this attribute refer to highly populated neighbourhoods. In particular, they refer to neighbourhoods with more than 60 listings each (if you want to check over, just run `airbnb.groupby('neighbourhood').count().loc['**name_of_the_neighbourhood**']` using the name of the neighbourhood you want to manage, among those presenting missing values in **host_name** atribute), except for **Highbridge** (there you can find 27 listings, with one of them which shows a missing value).\n",
    "\n",
    "Hence, we can easily **drop** all **NA values** for this feature, being sure to not change the underline distributions of the data.\n",
    "\n",
    "Important Note: we will drop the entire row in such situations."
   ]
  },
  {
   "cell_type": "code",
   "execution_count": 13,
   "metadata": {},
   "outputs": [],
   "source": [
    "# Dropping missing values connected to name and host_name\n",
    "airbnb.dropna(axis=0,subset=[\"host_name\"],inplace=True)"
   ]
  },
  {
   "cell_type": "markdown",
   "metadata": {},
   "source": [
    "Let's check again missing values in the dataset"
   ]
  },
  {
   "cell_type": "code",
   "execution_count": 14,
   "metadata": {},
   "outputs": [
    {
     "data": {
      "text/plain": [
       "id                                    0\n",
       "name                                 16\n",
       "host_id                               0\n",
       "host_name                             0\n",
       "neighbourhood_group                   0\n",
       "neighbourhood                         0\n",
       "latitude                              0\n",
       "longitude                             0\n",
       "room_type                             0\n",
       "price                                 0\n",
       "minimum_nights                        0\n",
       "number_of_reviews                     0\n",
       "last_review                       10047\n",
       "reviews_per_month                 10047\n",
       "calculated_host_listings_count        0\n",
       "availability_365                      0\n",
       "dtype: int64"
      ]
     },
     "execution_count": 14,
     "metadata": {},
     "output_type": "execute_result"
    }
   ],
   "source": [
    "airbnb.isnull().sum()"
   ]
  },
  {
   "cell_type": "markdown",
   "metadata": {},
   "source": [
    "For what concerns *last_review* and *review_per_month* instead, I had to make different considerations, since their a-priori removal could bring to changes in the distribution of the data if we decide to drop all the rows connected to `NA values` there. A possible approach could be to fill in missing values in **last_review** (`object` data type) with `\"NOreview\"` and in **review_per_month** (`integer` data type) with `0`; actually, this seems to be the best approach, since in each row there is a NA value for *last_review* there is also a NA value *review_per_month* (hence these listing have not been ever reviewed yet; check this fact with `airbnb[(airbnb['last_review'].isna()) | (airbnb['reviews_per_month'].isna())]`)."
   ]
  },
  {
   "cell_type": "code",
   "execution_count": 15,
   "metadata": {},
   "outputs": [],
   "source": [
    "# Filling in missing values for last_review and review_per_month\n",
    "airbnb.fillna({'reviews_per_month':0}, inplace=True)\n",
    "airbnb.fillna({'last_review':\"NOreview\"}, inplace=True)\n",
    "#airbnb.dropna(subset=['reviews_per_month','last_review'], axis=0, inplace = True)"
   ]
  },
  {
   "cell_type": "markdown",
   "metadata": {},
   "source": [
    "Let's check missing values in the dataset for the last time."
   ]
  },
  {
   "cell_type": "code",
   "execution_count": 16,
   "metadata": {},
   "outputs": [
    {
     "data": {
      "text/plain": [
       "id                                 0\n",
       "name                              16\n",
       "host_id                            0\n",
       "host_name                          0\n",
       "neighbourhood_group                0\n",
       "neighbourhood                      0\n",
       "latitude                           0\n",
       "longitude                          0\n",
       "room_type                          0\n",
       "price                              0\n",
       "minimum_nights                     0\n",
       "number_of_reviews                  0\n",
       "last_review                        0\n",
       "reviews_per_month                  0\n",
       "calculated_host_listings_count     0\n",
       "availability_365                   0\n",
       "dtype: int64"
      ]
     },
     "execution_count": 16,
     "metadata": {},
     "output_type": "execute_result"
    }
   ],
   "source": [
    "airbnb.isnull().sum()"
   ]
  },
  {
   "cell_type": "markdown",
   "metadata": {},
   "source": [
    "For what concerns **name** attribute, these NA values are not important since we will drop the entire column in the **Model development** phase. **name** atribute becomes important in exploring **duplicates** instead. In fact, I focused on **id** and on **name** attributes; each *id* must be unique, so that the *name* of each listing (in principle, at least). Let's see if there are some duplicated values connected to these features."
   ]
  },
  {
   "cell_type": "code",
   "execution_count": 17,
   "metadata": {},
   "outputs": [
    {
     "name": "stdout",
     "output_type": "stream",
     "text": [
      "The number of unique values for the id attribute is: 48874\n",
      "\n",
      "The number of dataset's records after removing NA values is: 48874\n",
      "\n",
      "Hence, for the id attribute there are no dupicates values.\n"
     ]
    }
   ],
   "source": [
    "# Looking for duplicates for id feature\n",
    "print('The number of unique values for the id attribute is:', airbnb[\"id\"].unique().shape[0])\n",
    "print(\"\\nThe number of dataset's records after removing NA values is:\", airbnb.shape[0])\n",
    "if airbnb[\"id\"].unique().shape[0]==airbnb.shape[0]:\n",
    "    print('\\nHence, for the id attribute there are no dupicates values.')\n",
    "else:\n",
    "    print(\"\\nHence, for the id attribute there are some duplicates values. So let's explore them in the cell below.\")"
   ]
  },
  {
   "cell_type": "code",
   "execution_count": 18,
   "metadata": {},
   "outputs": [
    {
     "name": "stdout",
     "output_type": "stream",
     "text": [
      "The number of unique values for the name attribute is: 47885\n",
      "\n",
      "The number of dataset's records after removing NA values is: 48874\n",
      "\n",
      "Hence, for the name attribute there are some duplicates values. So let's explore them in the cell below.\n"
     ]
    }
   ],
   "source": [
    "# Looking for duplicates for name feature\n",
    "print('The number of unique values for the name attribute is:', airbnb[\"name\"].unique().shape[0])\n",
    "print(\"\\nThe number of dataset's records after removing NA values is:\", airbnb.shape[0])\n",
    "if airbnb[\"name\"].unique().shape[0]==airbnb.shape[0]:\n",
    "    print('\\nHence, for the name attribute there are no dupicates values.')\n",
    "else:\n",
    "    print(\"\\nHence, for the name attribute there are some duplicates values. So let's explore them in the cell below.\")"
   ]
  },
  {
   "cell_type": "code",
   "execution_count": 19,
   "metadata": {},
   "outputs": [
    {
     "name": "stdout",
     "output_type": "stream",
     "text": [
      "\n",
      "There are 645 duplicates for the name attribute.\n",
      "\n",
      "The values (head and tail) which occur in the dataset more than once for the name attribute are:\n",
      "\n"
     ]
    },
    {
     "data": {
      "text/html": [
       "<div>\n",
       "<style scoped>\n",
       "    .dataframe tbody tr th:only-of-type {\n",
       "        vertical-align: middle;\n",
       "    }\n",
       "\n",
       "    .dataframe tbody tr th {\n",
       "        vertical-align: top;\n",
       "    }\n",
       "\n",
       "    .dataframe thead th {\n",
       "        text-align: right;\n",
       "    }\n",
       "</style>\n",
       "<table border=\"1\" class=\"dataframe\">\n",
       "  <thead>\n",
       "    <tr style=\"text-align: right;\">\n",
       "      <th></th>\n",
       "      <th>name</th>\n",
       "    </tr>\n",
       "  </thead>\n",
       "  <tbody>\n",
       "    <tr>\n",
       "      <th>Hillside Hotel</th>\n",
       "      <td>18</td>\n",
       "    </tr>\n",
       "    <tr>\n",
       "      <th>Home away from home</th>\n",
       "      <td>17</td>\n",
       "    </tr>\n",
       "    <tr>\n",
       "      <th>New york Multi-unit building</th>\n",
       "      <td>16</td>\n",
       "    </tr>\n",
       "    <tr>\n",
       "      <th>Brooklyn Apartment</th>\n",
       "      <td>12</td>\n",
       "    </tr>\n",
       "    <tr>\n",
       "      <th>Private Room</th>\n",
       "      <td>11</td>\n",
       "    </tr>\n",
       "    <tr>\n",
       "      <th>...</th>\n",
       "      <td>...</td>\n",
       "    </tr>\n",
       "    <tr>\n",
       "      <th>Queens C Place</th>\n",
       "      <td>2</td>\n",
       "    </tr>\n",
       "    <tr>\n",
       "      <th>Private room in Williamsburg. Very close to train!</th>\n",
       "      <td>2</td>\n",
       "    </tr>\n",
       "    <tr>\n",
       "      <th>Private Bedroom and Bath in Spacious Duplex</th>\n",
       "      <td>2</td>\n",
       "    </tr>\n",
       "    <tr>\n",
       "      <th>Quiet,Comfy&amp;Spacious Room near F/G train</th>\n",
       "      <td>2</td>\n",
       "    </tr>\n",
       "    <tr>\n",
       "      <th>Brooklyn home</th>\n",
       "      <td>2</td>\n",
       "    </tr>\n",
       "  </tbody>\n",
       "</table>\n",
       "<p>645 rows × 1 columns</p>\n",
       "</div>"
      ],
      "text/plain": [
       "                                                    name\n",
       "Hillside Hotel                                        18\n",
       "Home away from home                                   17\n",
       "New york Multi-unit building                          16\n",
       "Brooklyn Apartment                                    12\n",
       "Private Room                                          11\n",
       "...                                                  ...\n",
       "Queens C Place                                         2\n",
       "Private room in Williamsburg. Very close to train!     2\n",
       "Private Bedroom and Bath in Spacious Duplex            2\n",
       "Quiet,Comfy&Spacious Room near F/G train               2\n",
       "Brooklyn home                                          2\n",
       "\n",
       "[645 rows x 1 columns]"
      ]
     },
     "execution_count": 19,
     "metadata": {},
     "output_type": "execute_result"
    }
   ],
   "source": [
    "# Checking duplicates for name feature\n",
    "duplicates = pd.DataFrame(airbnb['name'].value_counts()[airbnb['name'].value_counts()>1]) # storing duplicates in a new Phyton object\n",
    "print('\\nThere are {} duplicates for the name attribute.\\n'.format(duplicates.shape[0]))\n",
    "print('The values (head and tail) which occur in the dataset more than once for the name attribute are:\\n')\n",
    "duplicates"
   ]
  },
  {
   "cell_type": "markdown",
   "metadata": {},
   "source": [
    "Let's explore a random **private room** among the previous ones."
   ]
  },
  {
   "cell_type": "code",
   "execution_count": 20,
   "metadata": {},
   "outputs": [
    {
     "data": {
      "text/html": [
       "<div>\n",
       "<style scoped>\n",
       "    .dataframe tbody tr th:only-of-type {\n",
       "        vertical-align: middle;\n",
       "    }\n",
       "\n",
       "    .dataframe tbody tr th {\n",
       "        vertical-align: top;\n",
       "    }\n",
       "\n",
       "    .dataframe thead th {\n",
       "        text-align: right;\n",
       "    }\n",
       "</style>\n",
       "<table border=\"1\" class=\"dataframe\">\n",
       "  <thead>\n",
       "    <tr style=\"text-align: right;\">\n",
       "      <th></th>\n",
       "      <th>id</th>\n",
       "      <th>name</th>\n",
       "      <th>host_id</th>\n",
       "      <th>host_name</th>\n",
       "      <th>neighbourhood_group</th>\n",
       "      <th>neighbourhood</th>\n",
       "      <th>latitude</th>\n",
       "      <th>longitude</th>\n",
       "      <th>room_type</th>\n",
       "      <th>price</th>\n",
       "      <th>minimum_nights</th>\n",
       "      <th>number_of_reviews</th>\n",
       "      <th>last_review</th>\n",
       "      <th>reviews_per_month</th>\n",
       "      <th>calculated_host_listings_count</th>\n",
       "      <th>availability_365</th>\n",
       "    </tr>\n",
       "  </thead>\n",
       "  <tbody>\n",
       "    <tr>\n",
       "      <th>328</th>\n",
       "      <td>80700</td>\n",
       "      <td>Loft w/ Terrace @ Box House Hotel</td>\n",
       "      <td>417504</td>\n",
       "      <td>The Box House Hotel</td>\n",
       "      <td>Brooklyn</td>\n",
       "      <td>Greenpoint</td>\n",
       "      <td>40.73738</td>\n",
       "      <td>-73.95482</td>\n",
       "      <td>Private room</td>\n",
       "      <td>349</td>\n",
       "      <td>3</td>\n",
       "      <td>7</td>\n",
       "      <td>2019-05-24</td>\n",
       "      <td>0.07</td>\n",
       "      <td>28</td>\n",
       "      <td>60</td>\n",
       "    </tr>\n",
       "    <tr>\n",
       "      <th>330</th>\n",
       "      <td>81739</td>\n",
       "      <td>Loft w/ Terrace @ Box House Hotel</td>\n",
       "      <td>417504</td>\n",
       "      <td>The Box House Hotel</td>\n",
       "      <td>Brooklyn</td>\n",
       "      <td>Greenpoint</td>\n",
       "      <td>40.73842</td>\n",
       "      <td>-73.95312</td>\n",
       "      <td>Private room</td>\n",
       "      <td>249</td>\n",
       "      <td>3</td>\n",
       "      <td>2</td>\n",
       "      <td>2011-05-12</td>\n",
       "      <td>0.02</td>\n",
       "      <td>28</td>\n",
       "      <td>60</td>\n",
       "    </tr>\n",
       "    <tr>\n",
       "      <th>680</th>\n",
       "      <td>253839</td>\n",
       "      <td>Loft w/ Terrace @ Box House Hotel</td>\n",
       "      <td>417504</td>\n",
       "      <td>The Box House Hotel</td>\n",
       "      <td>Brooklyn</td>\n",
       "      <td>Greenpoint</td>\n",
       "      <td>40.73783</td>\n",
       "      <td>-73.95259</td>\n",
       "      <td>Private room</td>\n",
       "      <td>249</td>\n",
       "      <td>3</td>\n",
       "      <td>3</td>\n",
       "      <td>2015-11-03</td>\n",
       "      <td>0.03</td>\n",
       "      <td>28</td>\n",
       "      <td>60</td>\n",
       "    </tr>\n",
       "  </tbody>\n",
       "</table>\n",
       "</div>"
      ],
      "text/plain": [
       "         id                               name  host_id            host_name  \\\n",
       "328   80700  Loft w/ Terrace @ Box House Hotel   417504  The Box House Hotel   \n",
       "330   81739  Loft w/ Terrace @ Box House Hotel   417504  The Box House Hotel   \n",
       "680  253839  Loft w/ Terrace @ Box House Hotel   417504  The Box House Hotel   \n",
       "\n",
       "    neighbourhood_group neighbourhood  latitude  longitude     room_type  \\\n",
       "328            Brooklyn    Greenpoint  40.73738  -73.95482  Private room   \n",
       "330            Brooklyn    Greenpoint  40.73842  -73.95312  Private room   \n",
       "680            Brooklyn    Greenpoint  40.73783  -73.95259  Private room   \n",
       "\n",
       "     price  minimum_nights  number_of_reviews last_review  reviews_per_month  \\\n",
       "328    349               3                  7  2019-05-24               0.07   \n",
       "330    249               3                  2  2011-05-12               0.02   \n",
       "680    249               3                  3  2015-11-03               0.03   \n",
       "\n",
       "     calculated_host_listings_count  availability_365  \n",
       "328                              28                60  \n",
       "330                              28                60  \n",
       "680                              28                60  "
      ]
     },
     "execution_count": 20,
     "metadata": {},
     "output_type": "execute_result"
    }
   ],
   "source": [
    "# Exploring a random private room duplicated values in the name attribute\n",
    "airbnb[airbnb[\"name\"]==\"Loft w/ Terrace @ Box House Hotel\"]"
   ]
  },
  {
   "cell_type": "markdown",
   "metadata": {},
   "source": [
    "We can see that the name for these private rooms is the same. Actually, checking on the Airbnb webiste (check [here](https://fr.airbnb.be/rooms/80700/?source_impression_id=p3_1610196444_UA%2B%2Bfg8WIjX3QsOP) and [here](https://www.airbnb.it/rooms/253839?source_impression_id=p3_1610196381_uyKEPEsQ2uK8ZMs%2B), for instance), is possible to observe that, even if the name is the same, they are different rooms from the same host (confirmed by the fact that, sometimes, the price is different or anyway there are no entire duplicated records; you can check the latter aspect running `airbnb.duplicated().sum()`). The same anaylis can be extended to **Shared rooms** and **Entire home/apt**. Hence, **removing duplicates connected to the name attribute does not make sense**."
   ]
  },
  {
   "cell_type": "markdown",
   "metadata": {},
   "source": [
    "## 2.3 - The busiest hosts"
   ]
  },
  {
   "cell_type": "markdown",
   "metadata": {},
   "source": [
    "Before moving on, let's see **what are the busiest host and why**. I will start in trying to determine the busiest among all. So let's get started with the *most reviewed per month*."
   ]
  },
  {
   "cell_type": "code",
   "execution_count": 21,
   "metadata": {},
   "outputs": [
    {
     "data": {
      "text/plain": [
       "host_id\n",
       "219517861    397.56\n",
       "244361589    111.72\n",
       "232251881     80.63\n",
       "26432133      68.02\n",
       "137274917     62.89\n",
       "Name: reviews_per_month, dtype: float64"
      ]
     },
     "execution_count": 21,
     "metadata": {},
     "output_type": "execute_result"
    }
   ],
   "source": [
    "# Getting the most reviewed_per_month hosts\n",
    "top5_rev=airbnb.groupby('host_id').sum()['reviews_per_month'].sort_values(ascending=False).head()\n",
    "top5_rev"
   ]
  },
  {
   "cell_type": "markdown",
   "metadata": {},
   "source": [
    "We can get also the hosts which have the *higher number of listings*:"
   ]
  },
  {
   "cell_type": "code",
   "execution_count": 22,
   "metadata": {},
   "outputs": [
    {
     "data": {
      "text/plain": [
       "219517861    327\n",
       "107434423    232\n",
       "30283594     121\n",
       "137358866    103\n",
       "12243051      96\n",
       "Name: host_id, dtype: int64"
      ]
     },
     "execution_count": 22,
     "metadata": {},
     "output_type": "execute_result"
    }
   ],
   "source": [
    "# Count number of time unique value for host_id occurs\n",
    "top5_list=airbnb['host_id'].value_counts().head() \n",
    "top5_list"
   ]
  },
  {
   "cell_type": "markdown",
   "metadata": {},
   "source": [
    "We can observe that the highest value is got by the same *host_id* in both cases. Hence, we can definitely say that:"
   ]
  },
  {
   "cell_type": "code",
   "execution_count": 23,
   "metadata": {},
   "outputs": [
    {
     "name": "stdout",
     "output_type": "stream",
     "text": [
      "The busiest host among all is: Sonder (NYC)\n"
     ]
    }
   ],
   "source": [
    "busiest_host = airbnb[airbnb['host_id']==219517861]['host_name'].unique()\n",
    "print('The busiest host among all is:', busiest_host[0])"
   ]
  },
  {
   "cell_type": "markdown",
   "metadata": {},
   "source": [
    "What about exctracting useful information about the spread of the busiest hosts, depending on the **number_of_reviews**? In this way, we can group data according to the borough each listing belongs to and then take a look at the number of reviews (according to the median value) for each borough. We can assume that the borough presenting the higher number of reviews is also the most visited one."
   ]
  },
  {
   "cell_type": "code",
   "execution_count": 24,
   "metadata": {},
   "outputs": [
    {
     "data": {
      "image/png": "[encoded data removed]",
      "text/plain": [
       "<Figure size 1800x576 with 2 Axes>"
      ]
     },
     "metadata": {
      "needs_background": "light"
     },
     "output_type": "display_data"
    }
   ],
   "source": [
    "# Since number_of_reviews have many outliers, I should use median instead of mean as the measure of central tendency (more robust)\n",
    "\n",
    "# First, dataframe grouping data by boroughs and applying the median function; sorting them according to the number of reviews and resetting indeces\n",
    "top_listings = airbnb.groupby('neighbourhood_group').median().sort_values(by = 'number_of_reviews', ascending = False).reset_index()\n",
    "# Second, dataframe grouping data by boroughs and neighbourhoods, applying the median function; sorting them according to the number of reviews and resetting indeces\n",
    "top10_listings = airbnb.groupby(['neighbourhood_group', 'neighbourhood']).median().sort_values(by = 'number_of_reviews', ascending = False).reset_index().head(10)\n",
    "# plotting results \n",
    "fig, axis = plt.subplots(1, 2, figsize = (25, 8))\n",
    "sns.barplot(x = 'number_of_reviews', \n",
    "            y = 'neighbourhood', \n",
    "            data = top10_listings, \n",
    "            orient = 'h', \n",
    "            ci = False, \n",
    "            hue = 'neighbourhood_group', \n",
    "            dodge = False, \n",
    "            ax = axis[0], \n",
    "            estimator = np.median).set(title = 'Top rented listings according to neighbourhood')\n",
    "sns.barplot(x = 'neighbourhood_group', \n",
    "            y = 'number_of_reviews', \n",
    "            data = top_listings, \n",
    "            ci = False, \n",
    "            dodge = False, \n",
    "            ax = axis[1]).set(title = 'Average number of customers that hosts get in each borough')\n",
    "plt.show()"
   ]
  },
  {
   "cell_type": "markdown",
   "metadata": {},
   "source": [
    "From the observations above, we can conclude that hosts in **Staten Island** are the busiest, in terms of getting customers. In particular, **Silver Lake, Eltingville and Richmondtown** seems to be the top 3 hotspots for hosts to get the higher number of clients.\n",
    "Although Manhattan and Brooklyn have the most listings & customers, Staten Island has the busiest hosts; this is probably due to less competition, very low costs compared to other boroughs (you can check it later, in the **Exploratory Data Analysis**) and less minimum night requirements which drives there more customers."
   ]
  },
  {
   "cell_type": "markdown",
   "metadata": {},
   "source": [
    "---"
   ]
  },
  {
   "cell_type": "markdown",
   "metadata": {},
   "source": [
    "# 3. Exploratory Data Analysis"
   ]
  },
  {
   "cell_type": "markdown",
   "metadata": {},
   "source": [
    "In this section, we will manage an **Exploratory Data Analysis**, using **statistics** measures and **graphical representations**."
   ]
  },
  {
   "cell_type": "markdown",
   "metadata": {},
   "source": [
    "## 3.1 - Useful summary statistics for target variable"
   ]
  },
  {
   "cell_type": "markdown",
   "metadata": {},
   "source": [
    "We will start from the **target** variable which is the **price**."
   ]
  },
  {
   "cell_type": "code",
   "execution_count": 25,
   "metadata": {},
   "outputs": [
    {
     "data": {
      "text/plain": [
       "count    48874.000000\n",
       "mean       152.738634\n",
       "std        240.199728\n",
       "min          0.000000\n",
       "25%         69.000000\n",
       "50%        106.000000\n",
       "75%        175.000000\n",
       "max      10000.000000\n",
       "Name: price, dtype: float64"
      ]
     },
     "execution_count": 25,
     "metadata": {},
     "output_type": "execute_result"
    }
   ],
   "source": [
    "# Summary statistics for price target attribute\n",
    "airbnb[\"price\"].describe()"
   ]
  },
  {
   "cell_type": "markdown",
   "metadata": {},
   "source": [
    "We can observe that the **average price** is approximately **153 $**, while the **minimum** is **0** and the **maximum** is **10.000**.\n",
    "\n",
    "Let's see the distribution of price."
   ]
  },
  {
   "cell_type": "code",
   "execution_count": 26,
   "metadata": {},
   "outputs": [
    {
     "name": "stdout",
     "output_type": "stream",
     "text": [
      "The 3rd order moment for the distribution (Skewness Index) for the prices data is approximately: 19.12\n"
     ]
    },
    {
     "data": {
      "image/png": "[encoded data removed]",
      "text/plain": [
       "<Figure size 720x576 with 2 Axes>"
      ]
     },
     "metadata": {
      "needs_background": "light"
     },
     "output_type": "display_data"
    }
   ],
   "source": [
    "# Distribution of price\n",
    "prices = airbnb[\"price\"]\n",
    "fig = plt.figure(figsize = (10,8))\n",
    "ax1 = fig.add_subplot(211)\n",
    "plt.grid()\n",
    "plt.title('Histogram for price attribute')\n",
    "plt.ylabel('Listings')\n",
    "hist_price = ax1.hist(prices)\n",
    "ax2 = fig.add_subplot(212)\n",
    "box_price = ax2.boxplot(prices, vert=False,patch_artist=True, boxprops=dict(color='blue'),capprops=dict(color='red'),medianprops=dict(color='red'),flierprops=dict(markeredgecolor='red'))\n",
    "plt.xlabel('Price')\n",
    "print('The 3rd order moment for the distribution (Skewness Index) for the prices data is approximately: {:.2f}'.format(prices.skew()))"
   ]
  },
  {
   "cell_type": "markdown",
   "metadata": {},
   "source": [
    "From the previous histogram we can see that most listings have price **less than 1000** and, anyway, almost all **less than 2000 $**. Moreover, the **Skewness Index is high (Skewness = 19.11)**; since it represents how our data are far from the simmetric position (Skewness = 0) and is an indicator of possible outliers in the distribution, such a value made me think about a more accurate analysis of values higher than the thresholds previuosly found. \n",
    "\n",
    "Let's explore this fact in a deeper way by looking at the distribution of the values for listings with prices less than these threshold."
   ]
  },
  {
   "cell_type": "code",
   "execution_count": 27,
   "metadata": {},
   "outputs": [
    {
     "data": {
      "text/plain": [
       "Text(0.5, 0, 'Price')"
      ]
     },
     "execution_count": 27,
     "metadata": {},
     "output_type": "execute_result"
    },
    {
     "data": {
      "image/png": "[encoded data removed]",
      "text/plain": [
       "<Figure size 1296x504 with 4 Axes>"
      ]
     },
     "metadata": {
      "needs_background": "light"
     },
     "output_type": "display_data"
    }
   ],
   "source": [
    "# Distribution of price less than 1000 and 2000 $\n",
    "prices_less1000 = airbnb[\"price\"][airbnb[\"price\"]<1000]\n",
    "prices_less2000 = airbnb[\"price\"][airbnb[\"price\"]<2000]\n",
    "fig = plt.figure(figsize=(18, 7))\n",
    "# histogram less than 2000\n",
    "ax1 = fig.add_subplot(221)\n",
    "plt.grid()\n",
    "plt.title('Histogram for price  < 2000$\\n(Skewness = {:.2f})'.format(prices_less2000.skew()))\n",
    "plt.xlabel('Price')\n",
    "plt.ylabel('Listings')\n",
    "hist_less2000 = ax1.hist(prices_less2000)\n",
    "# histogram less than 1000\n",
    "ax2 = fig.add_subplot(222)\n",
    "plt.grid()\n",
    "plt.title('Histogram for price  < 1000$\\n(Skewness = {:.2f})'.format(prices_less1000.skew()))\n",
    "plt.xlabel('Price')\n",
    "plt.ylabel('Listings')\n",
    "hist_less1000 = ax2.hist(prices_less1000)\n",
    "# boxplot less than 2000\n",
    "ax3 = fig.add_subplot(223)\n",
    "box_less2000 = ax3.boxplot(prices_less2000, vert=False,patch_artist=True, boxprops=dict(color='blue'),capprops=dict(color='red'),medianprops=dict(color='red'),flierprops=dict(markeredgecolor='red'))\n",
    "plt.xlabel('Price')\n",
    "# boxplot less than 1000\n",
    "ax4 = fig.add_subplot(224)\n",
    "box_less1000 = ax4.boxplot(prices_less1000, vert=False,patch_artist=True, boxprops=dict(color='blue'),capprops=dict(color='red'),medianprops=dict(color='red'),flierprops=dict(markeredgecolor='red'))\n",
    "plt.xlabel('Price')"
   ]
  },
  {
   "cell_type": "markdown",
   "metadata": {},
   "source": [
    "It seems interesting that reducing the threshold value, the Skewness index tends to the simmetric value. Exploiting this fact, I could find a threshold value which brings to a **3rd order moment close to zero** and consider each value greater than it as an outliers to be removed (pay attention to the number of outliers effectively removed), for a greater accuracy on predicting the price. Let's try **600$**, first."
   ]
  },
  {
   "cell_type": "code",
   "execution_count": 28,
   "metadata": {},
   "outputs": [
    {
     "name": "stdout",
     "output_type": "stream",
     "text": [
      "The number of outliers is 859 out of 48874 (total rows of the dataframe)\n"
     ]
    },
    {
     "data": {
      "image/png": "[encoded data removed]",
      "text/plain": [
       "<Figure size 720x576 with 2 Axes>"
      ]
     },
     "metadata": {
      "needs_background": "light"
     },
     "output_type": "display_data"
    }
   ],
   "source": [
    "# Distribution of price less than 600 $\n",
    "prices_less600 = airbnb[\"price\"][airbnb[\"price\"]<600]\n",
    "fig = plt.figure(figsize = (10,8))\n",
    "ax = fig.add_subplot(211)\n",
    "plt.grid()\n",
    "plt.title('Histogram for price  < 600$\\n(Skewness = {:.2f})'.format(prices_less600.skew()))\n",
    "plt.xlabel('Price')\n",
    "plt.ylabel('Listings')\n",
    "hist_less600 = ax.hist(prices_less600)\n",
    "ax2 = fig.add_subplot(212)\n",
    "box_less600 = ax2.boxplot(prices_less600, vert=False,patch_artist=True, boxprops=dict(color='blue'),capprops=dict(color='red'),medianprops=dict(color='red'),flierprops=dict(markeredgecolor='red'))\n",
    "plt.xlabel('Price')\n",
    "print('The number of outliers is {} out of {} (total rows of the dataframe)'.format(prices.shape[0]-prices_less600.shape[0],prices.shape[0]))"
   ]
  },
  {
   "cell_type": "markdown",
   "metadata": {},
   "source": [
    "We can do even better."
   ]
  },
  {
   "cell_type": "code",
   "execution_count": 29,
   "metadata": {},
   "outputs": [
    {
     "name": "stdout",
     "output_type": "stream",
     "text": [
      "The number of outliers is 6225 out of 48874 (total rows of the dataframe)\n"
     ]
    },
    {
     "data": {
      "image/png": "[encoded data removed]",
      "text/plain": [
       "<Figure size 720x576 with 2 Axes>"
      ]
     },
     "metadata": {
      "needs_background": "light"
     },
     "output_type": "display_data"
    }
   ],
   "source": [
    "# Distribution of price less than 250 $\n",
    "prices_less250 = airbnb[\"price\"][airbnb[\"price\"]<250]\n",
    "fig = plt.figure(figsize = (10,8))\n",
    "ax = fig.add_subplot(211)\n",
    "plt.grid()\n",
    "plt.title('Histogram for price  < 250$\\n(Skewness = {:.2f})'.format(prices_less250.skew()))\n",
    "plt.xlabel('Price')\n",
    "plt.ylabel('Listings')\n",
    "hist_less250 = ax.hist(prices_less250)\n",
    "ax2 = fig.add_subplot(212)\n",
    "box_less250 = ax2.boxplot(prices_less250, vert=False,patch_artist=True, boxprops=dict(color='blue'),capprops=dict(color='red'),medianprops=dict(color='red'),flierprops=dict(markeredgecolor='red'))\n",
    "plt.xlabel('Price')\n",
    "print('The number of outliers is {} out of {} (total rows of the dataframe)'.format(prices.shape[0]-prices_less250.shape[0],prices.shape[0]))"
   ]
  },
  {
   "cell_type": "markdown",
   "metadata": {},
   "source": [
    "Ok, let's take **250 $** as a threshold for further operation, since it shows good results in terms of **Skewness** index (**0.62**) and possible **outliers** (**6223** out of 48858). Moreover, it is reasonable that people don't spend too much for a single day; the fact that the some listing shows a too much high price could be due to mistakes in setting the price from the host during the subscribe phase or that they refer to extremely luxurious. Hence, I changed the original dataset according to this information."
   ]
  },
  {
   "cell_type": "code",
   "execution_count": 30,
   "metadata": {},
   "outputs": [
    {
     "data": {
      "text/html": [
       "<div>\n",
       "<style scoped>\n",
       "    .dataframe tbody tr th:only-of-type {\n",
       "        vertical-align: middle;\n",
       "    }\n",
       "\n",
       "    .dataframe tbody tr th {\n",
       "        vertical-align: top;\n",
       "    }\n",
       "\n",
       "    .dataframe thead th {\n",
       "        text-align: right;\n",
       "    }\n",
       "</style>\n",
       "<table border=\"1\" class=\"dataframe\">\n",
       "  <thead>\n",
       "    <tr style=\"text-align: right;\">\n",
       "      <th></th>\n",
       "      <th>id</th>\n",
       "      <th>name</th>\n",
       "      <th>host_id</th>\n",
       "      <th>host_name</th>\n",
       "      <th>neighbourhood_group</th>\n",
       "      <th>neighbourhood</th>\n",
       "      <th>latitude</th>\n",
       "      <th>longitude</th>\n",
       "      <th>room_type</th>\n",
       "      <th>price</th>\n",
       "      <th>minimum_nights</th>\n",
       "      <th>number_of_reviews</th>\n",
       "      <th>last_review</th>\n",
       "      <th>reviews_per_month</th>\n",
       "      <th>calculated_host_listings_count</th>\n",
       "      <th>availability_365</th>\n",
       "    </tr>\n",
       "  </thead>\n",
       "  <tbody>\n",
       "    <tr>\n",
       "      <th>0</th>\n",
       "      <td>2539</td>\n",
       "      <td>Clean &amp; quiet apt home by the park</td>\n",
       "      <td>2787</td>\n",
       "      <td>John</td>\n",
       "      <td>Brooklyn</td>\n",
       "      <td>Kensington</td>\n",
       "      <td>40.64749</td>\n",
       "      <td>-73.97237</td>\n",
       "      <td>Private room</td>\n",
       "      <td>149</td>\n",
       "      <td>1</td>\n",
       "      <td>9</td>\n",
       "      <td>2018-10-19</td>\n",
       "      <td>0.21</td>\n",
       "      <td>6</td>\n",
       "      <td>365</td>\n",
       "    </tr>\n",
       "    <tr>\n",
       "      <th>1</th>\n",
       "      <td>2595</td>\n",
       "      <td>Skylit Midtown Castle</td>\n",
       "      <td>2845</td>\n",
       "      <td>Jennifer</td>\n",
       "      <td>Manhattan</td>\n",
       "      <td>Midtown</td>\n",
       "      <td>40.75362</td>\n",
       "      <td>-73.98377</td>\n",
       "      <td>Entire home/apt</td>\n",
       "      <td>225</td>\n",
       "      <td>1</td>\n",
       "      <td>45</td>\n",
       "      <td>2019-05-21</td>\n",
       "      <td>0.38</td>\n",
       "      <td>2</td>\n",
       "      <td>355</td>\n",
       "    </tr>\n",
       "    <tr>\n",
       "      <th>2</th>\n",
       "      <td>3647</td>\n",
       "      <td>THE VILLAGE OF HARLEM....NEW YORK !</td>\n",
       "      <td>4632</td>\n",
       "      <td>Elisabeth</td>\n",
       "      <td>Manhattan</td>\n",
       "      <td>Harlem</td>\n",
       "      <td>40.80902</td>\n",
       "      <td>-73.94190</td>\n",
       "      <td>Private room</td>\n",
       "      <td>150</td>\n",
       "      <td>3</td>\n",
       "      <td>0</td>\n",
       "      <td>NOreview</td>\n",
       "      <td>0.00</td>\n",
       "      <td>1</td>\n",
       "      <td>365</td>\n",
       "    </tr>\n",
       "    <tr>\n",
       "      <th>3</th>\n",
       "      <td>3831</td>\n",
       "      <td>Cozy Entire Floor of Brownstone</td>\n",
       "      <td>4869</td>\n",
       "      <td>LisaRoxanne</td>\n",
       "      <td>Brooklyn</td>\n",
       "      <td>Clinton Hill</td>\n",
       "      <td>40.68514</td>\n",
       "      <td>-73.95976</td>\n",
       "      <td>Entire home/apt</td>\n",
       "      <td>89</td>\n",
       "      <td>1</td>\n",
       "      <td>270</td>\n",
       "      <td>2019-07-05</td>\n",
       "      <td>4.64</td>\n",
       "      <td>1</td>\n",
       "      <td>194</td>\n",
       "    </tr>\n",
       "    <tr>\n",
       "      <th>4</th>\n",
       "      <td>5022</td>\n",
       "      <td>Entire Apt: Spacious Studio/Loft by central park</td>\n",
       "      <td>7192</td>\n",
       "      <td>Laura</td>\n",
       "      <td>Manhattan</td>\n",
       "      <td>East Harlem</td>\n",
       "      <td>40.79851</td>\n",
       "      <td>-73.94399</td>\n",
       "      <td>Entire home/apt</td>\n",
       "      <td>80</td>\n",
       "      <td>10</td>\n",
       "      <td>9</td>\n",
       "      <td>2018-11-19</td>\n",
       "      <td>0.10</td>\n",
       "      <td>1</td>\n",
       "      <td>0</td>\n",
       "    </tr>\n",
       "    <tr>\n",
       "      <th>...</th>\n",
       "      <td>...</td>\n",
       "      <td>...</td>\n",
       "      <td>...</td>\n",
       "      <td>...</td>\n",
       "      <td>...</td>\n",
       "      <td>...</td>\n",
       "      <td>...</td>\n",
       "      <td>...</td>\n",
       "      <td>...</td>\n",
       "      <td>...</td>\n",
       "      <td>...</td>\n",
       "      <td>...</td>\n",
       "      <td>...</td>\n",
       "      <td>...</td>\n",
       "      <td>...</td>\n",
       "      <td>...</td>\n",
       "    </tr>\n",
       "    <tr>\n",
       "      <th>48890</th>\n",
       "      <td>36484665</td>\n",
       "      <td>Charming one bedroom - newly renovated rowhouse</td>\n",
       "      <td>8232441</td>\n",
       "      <td>Sabrina</td>\n",
       "      <td>Brooklyn</td>\n",
       "      <td>Bedford-Stuyvesant</td>\n",
       "      <td>40.67853</td>\n",
       "      <td>-73.94995</td>\n",
       "      <td>Private room</td>\n",
       "      <td>70</td>\n",
       "      <td>2</td>\n",
       "      <td>0</td>\n",
       "      <td>NOreview</td>\n",
       "      <td>0.00</td>\n",
       "      <td>2</td>\n",
       "      <td>9</td>\n",
       "    </tr>\n",
       "    <tr>\n",
       "      <th>48891</th>\n",
       "      <td>36485057</td>\n",
       "      <td>Affordable room in Bushwick/East Williamsburg</td>\n",
       "      <td>6570630</td>\n",
       "      <td>Marisol</td>\n",
       "      <td>Brooklyn</td>\n",
       "      <td>Bushwick</td>\n",
       "      <td>40.70184</td>\n",
       "      <td>-73.93317</td>\n",
       "      <td>Private room</td>\n",
       "      <td>40</td>\n",
       "      <td>4</td>\n",
       "      <td>0</td>\n",
       "      <td>NOreview</td>\n",
       "      <td>0.00</td>\n",
       "      <td>2</td>\n",
       "      <td>36</td>\n",
       "    </tr>\n",
       "    <tr>\n",
       "      <th>48892</th>\n",
       "      <td>36485431</td>\n",
       "      <td>Sunny Studio at Historical Neighborhood</td>\n",
       "      <td>23492952</td>\n",
       "      <td>Ilgar &amp; Aysel</td>\n",
       "      <td>Manhattan</td>\n",
       "      <td>Harlem</td>\n",
       "      <td>40.81475</td>\n",
       "      <td>-73.94867</td>\n",
       "      <td>Entire home/apt</td>\n",
       "      <td>115</td>\n",
       "      <td>10</td>\n",
       "      <td>0</td>\n",
       "      <td>NOreview</td>\n",
       "      <td>0.00</td>\n",
       "      <td>1</td>\n",
       "      <td>27</td>\n",
       "    </tr>\n",
       "    <tr>\n",
       "      <th>48893</th>\n",
       "      <td>36485609</td>\n",
       "      <td>43rd St. Time Square-cozy single bed</td>\n",
       "      <td>30985759</td>\n",
       "      <td>Taz</td>\n",
       "      <td>Manhattan</td>\n",
       "      <td>Hell's Kitchen</td>\n",
       "      <td>40.75751</td>\n",
       "      <td>-73.99112</td>\n",
       "      <td>Shared room</td>\n",
       "      <td>55</td>\n",
       "      <td>1</td>\n",
       "      <td>0</td>\n",
       "      <td>NOreview</td>\n",
       "      <td>0.00</td>\n",
       "      <td>6</td>\n",
       "      <td>2</td>\n",
       "    </tr>\n",
       "    <tr>\n",
       "      <th>48894</th>\n",
       "      <td>36487245</td>\n",
       "      <td>Trendy duplex in the very heart of Hell's Kitchen</td>\n",
       "      <td>68119814</td>\n",
       "      <td>Christophe</td>\n",
       "      <td>Manhattan</td>\n",
       "      <td>Hell's Kitchen</td>\n",
       "      <td>40.76404</td>\n",
       "      <td>-73.98933</td>\n",
       "      <td>Private room</td>\n",
       "      <td>90</td>\n",
       "      <td>7</td>\n",
       "      <td>0</td>\n",
       "      <td>NOreview</td>\n",
       "      <td>0.00</td>\n",
       "      <td>1</td>\n",
       "      <td>23</td>\n",
       "    </tr>\n",
       "  </tbody>\n",
       "</table>\n",
       "<p>42649 rows × 16 columns</p>\n",
       "</div>"
      ],
      "text/plain": [
       "             id                                               name   host_id  \\\n",
       "0          2539                 Clean & quiet apt home by the park      2787   \n",
       "1          2595                              Skylit Midtown Castle      2845   \n",
       "2          3647                THE VILLAGE OF HARLEM....NEW YORK !      4632   \n",
       "3          3831                    Cozy Entire Floor of Brownstone      4869   \n",
       "4          5022   Entire Apt: Spacious Studio/Loft by central park      7192   \n",
       "...         ...                                                ...       ...   \n",
       "48890  36484665    Charming one bedroom - newly renovated rowhouse   8232441   \n",
       "48891  36485057      Affordable room in Bushwick/East Williamsburg   6570630   \n",
       "48892  36485431            Sunny Studio at Historical Neighborhood  23492952   \n",
       "48893  36485609               43rd St. Time Square-cozy single bed  30985759   \n",
       "48894  36487245  Trendy duplex in the very heart of Hell's Kitchen  68119814   \n",
       "\n",
       "           host_name neighbourhood_group       neighbourhood  latitude  \\\n",
       "0               John            Brooklyn          Kensington  40.64749   \n",
       "1           Jennifer           Manhattan             Midtown  40.75362   \n",
       "2          Elisabeth           Manhattan              Harlem  40.80902   \n",
       "3        LisaRoxanne            Brooklyn        Clinton Hill  40.68514   \n",
       "4              Laura           Manhattan         East Harlem  40.79851   \n",
       "...              ...                 ...                 ...       ...   \n",
       "48890        Sabrina            Brooklyn  Bedford-Stuyvesant  40.67853   \n",
       "48891        Marisol            Brooklyn            Bushwick  40.70184   \n",
       "48892  Ilgar & Aysel           Manhattan              Harlem  40.81475   \n",
       "48893            Taz           Manhattan      Hell's Kitchen  40.75751   \n",
       "48894     Christophe           Manhattan      Hell's Kitchen  40.76404   \n",
       "\n",
       "       longitude        room_type  price  minimum_nights  number_of_reviews  \\\n",
       "0      -73.97237     Private room    149               1                  9   \n",
       "1      -73.98377  Entire home/apt    225               1                 45   \n",
       "2      -73.94190     Private room    150               3                  0   \n",
       "3      -73.95976  Entire home/apt     89               1                270   \n",
       "4      -73.94399  Entire home/apt     80              10                  9   \n",
       "...          ...              ...    ...             ...                ...   \n",
       "48890  -73.94995     Private room     70               2                  0   \n",
       "48891  -73.93317     Private room     40               4                  0   \n",
       "48892  -73.94867  Entire home/apt    115              10                  0   \n",
       "48893  -73.99112      Shared room     55               1                  0   \n",
       "48894  -73.98933     Private room     90               7                  0   \n",
       "\n",
       "      last_review  reviews_per_month  calculated_host_listings_count  \\\n",
       "0      2018-10-19               0.21                               6   \n",
       "1      2019-05-21               0.38                               2   \n",
       "2        NOreview               0.00                               1   \n",
       "3      2019-07-05               4.64                               1   \n",
       "4      2018-11-19               0.10                               1   \n",
       "...           ...                ...                             ...   \n",
       "48890    NOreview               0.00                               2   \n",
       "48891    NOreview               0.00                               2   \n",
       "48892    NOreview               0.00                               1   \n",
       "48893    NOreview               0.00                               6   \n",
       "48894    NOreview               0.00                               1   \n",
       "\n",
       "       availability_365  \n",
       "0                   365  \n",
       "1                   355  \n",
       "2                   365  \n",
       "3                   194  \n",
       "4                     0  \n",
       "...                 ...  \n",
       "48890                 9  \n",
       "48891                36  \n",
       "48892                27  \n",
       "48893                 2  \n",
       "48894                23  \n",
       "\n",
       "[42649 rows x 16 columns]"
      ]
     },
     "execution_count": 30,
     "metadata": {},
     "output_type": "execute_result"
    }
   ],
   "source": [
    "# Removing outliers and showing results (head and tail)\n",
    "airbnb = airbnb[airbnb[\"price\"]<250]\n",
    "airbnb"
   ]
  },
  {
   "cell_type": "markdown",
   "metadata": {},
   "source": [
    "Let's see again some useful summary statistics for the price attribute without outliers."
   ]
  },
  {
   "cell_type": "code",
   "execution_count": 31,
   "metadata": {},
   "outputs": [
    {
     "data": {
      "text/plain": [
       "count    42649.000000\n",
       "mean       107.901334\n",
       "std         53.803431\n",
       "min          0.000000\n",
       "25%         65.000000\n",
       "50%         99.000000\n",
       "75%        150.000000\n",
       "max        249.000000\n",
       "Name: price, dtype: float64"
      ]
     },
     "execution_count": 31,
     "metadata": {},
     "output_type": "execute_result"
    }
   ],
   "source": [
    "# Summary statistics for price target attribute without outliers\n",
    "airbnb[\"price\"].describe()"
   ]
  },
  {
   "cell_type": "markdown",
   "metadata": {},
   "source": [
    "The same analysis can be done also for possible strange very low values. For instance, the **minimum value** is exactly **0 dollars** and I do not expect for a generous host. I checked for how many values are less than 10 $ (in a consistent way with respect to the last histogram realized) with the cell below:"
   ]
  },
  {
   "cell_type": "code",
   "execution_count": 32,
   "metadata": {},
   "outputs": [
    {
     "name": "stdout",
     "output_type": "stream",
     "text": [
      "The number of strange values is 129 out of 42649 (total rows of the dataframe)\n"
     ]
    },
    {
     "data": {
      "image/png": "[encoded data removed]",
      "text/plain": [
       "<Figure size 720x576 with 2 Axes>"
      ]
     },
     "metadata": {
      "needs_background": "light"
     },
     "output_type": "display_data"
    }
   ],
   "source": [
    "# Distribution of price less than 250 $ and greater than 10\n",
    "prices_25_to250 = airbnb[\"price\"][airbnb[\"price\"]>10]\n",
    "fig = plt.figure(figsize = (10,8))\n",
    "ax = fig.add_subplot(211)\n",
    "plt.grid()\n",
    "plt.title('Histogram for price between 25 and 250$\\n(Skewness = {:.2f})'.format(prices_25_to250.skew()))\n",
    "plt.xlabel('Price')\n",
    "plt.ylabel('Listings')\n",
    "hist_25_to250 = ax.hist(prices_25_to250)\n",
    "ax2 = fig.add_subplot(212)\n",
    "box_25_to250 = ax2.boxplot(prices_25_to250, vert=False,patch_artist=True, boxprops=dict(color='blue'),capprops=dict(color='red'),medianprops=dict(color='red'),flierprops=dict(markeredgecolor='red'))\n",
    "plt.xlabel('Price')\n",
    "print('The number of strange values is {} out of {} (total rows of the dataframe)'.format(airbnb[airbnb[\"price\"]<25].shape[0],airbnb['price'].shape[0]))"
   ]
  },
  {
   "cell_type": "markdown",
   "metadata": {},
   "source": [
    "This fact brings to a little improvement in the distribution of the data, with the Skewness index that decreases a little bit. Hence, I changed again the *airbnb* dataset according to this information."
   ]
  },
  {
   "cell_type": "code",
   "execution_count": 33,
   "metadata": {},
   "outputs": [
    {
     "data": {
      "text/html": [
       "<div>\n",
       "<style scoped>\n",
       "    .dataframe tbody tr th:only-of-type {\n",
       "        vertical-align: middle;\n",
       "    }\n",
       "\n",
       "    .dataframe tbody tr th {\n",
       "        vertical-align: top;\n",
       "    }\n",
       "\n",
       "    .dataframe thead th {\n",
       "        text-align: right;\n",
       "    }\n",
       "</style>\n",
       "<table border=\"1\" class=\"dataframe\">\n",
       "  <thead>\n",
       "    <tr style=\"text-align: right;\">\n",
       "      <th></th>\n",
       "      <th>id</th>\n",
       "      <th>name</th>\n",
       "      <th>host_id</th>\n",
       "      <th>host_name</th>\n",
       "      <th>neighbourhood_group</th>\n",
       "      <th>neighbourhood</th>\n",
       "      <th>latitude</th>\n",
       "      <th>longitude</th>\n",
       "      <th>room_type</th>\n",
       "      <th>price</th>\n",
       "      <th>minimum_nights</th>\n",
       "      <th>number_of_reviews</th>\n",
       "      <th>last_review</th>\n",
       "      <th>reviews_per_month</th>\n",
       "      <th>calculated_host_listings_count</th>\n",
       "      <th>availability_365</th>\n",
       "    </tr>\n",
       "  </thead>\n",
       "  <tbody>\n",
       "    <tr>\n",
       "      <th>0</th>\n",
       "      <td>2539</td>\n",
       "      <td>Clean &amp; quiet apt home by the park</td>\n",
       "      <td>2787</td>\n",
       "      <td>John</td>\n",
       "      <td>Brooklyn</td>\n",
       "      <td>Kensington</td>\n",
       "      <td>40.64749</td>\n",
       "      <td>-73.97237</td>\n",
       "      <td>Private room</td>\n",
       "      <td>149</td>\n",
       "      <td>1</td>\n",
       "      <td>9</td>\n",
       "      <td>2018-10-19</td>\n",
       "      <td>0.21</td>\n",
       "      <td>6</td>\n",
       "      <td>365</td>\n",
       "    </tr>\n",
       "    <tr>\n",
       "      <th>1</th>\n",
       "      <td>2595</td>\n",
       "      <td>Skylit Midtown Castle</td>\n",
       "      <td>2845</td>\n",
       "      <td>Jennifer</td>\n",
       "      <td>Manhattan</td>\n",
       "      <td>Midtown</td>\n",
       "      <td>40.75362</td>\n",
       "      <td>-73.98377</td>\n",
       "      <td>Entire home/apt</td>\n",
       "      <td>225</td>\n",
       "      <td>1</td>\n",
       "      <td>45</td>\n",
       "      <td>2019-05-21</td>\n",
       "      <td>0.38</td>\n",
       "      <td>2</td>\n",
       "      <td>355</td>\n",
       "    </tr>\n",
       "    <tr>\n",
       "      <th>2</th>\n",
       "      <td>3647</td>\n",
       "      <td>THE VILLAGE OF HARLEM....NEW YORK !</td>\n",
       "      <td>4632</td>\n",
       "      <td>Elisabeth</td>\n",
       "      <td>Manhattan</td>\n",
       "      <td>Harlem</td>\n",
       "      <td>40.80902</td>\n",
       "      <td>-73.94190</td>\n",
       "      <td>Private room</td>\n",
       "      <td>150</td>\n",
       "      <td>3</td>\n",
       "      <td>0</td>\n",
       "      <td>NOreview</td>\n",
       "      <td>0.00</td>\n",
       "      <td>1</td>\n",
       "      <td>365</td>\n",
       "    </tr>\n",
       "    <tr>\n",
       "      <th>3</th>\n",
       "      <td>3831</td>\n",
       "      <td>Cozy Entire Floor of Brownstone</td>\n",
       "      <td>4869</td>\n",
       "      <td>LisaRoxanne</td>\n",
       "      <td>Brooklyn</td>\n",
       "      <td>Clinton Hill</td>\n",
       "      <td>40.68514</td>\n",
       "      <td>-73.95976</td>\n",
       "      <td>Entire home/apt</td>\n",
       "      <td>89</td>\n",
       "      <td>1</td>\n",
       "      <td>270</td>\n",
       "      <td>2019-07-05</td>\n",
       "      <td>4.64</td>\n",
       "      <td>1</td>\n",
       "      <td>194</td>\n",
       "    </tr>\n",
       "    <tr>\n",
       "      <th>4</th>\n",
       "      <td>5022</td>\n",
       "      <td>Entire Apt: Spacious Studio/Loft by central park</td>\n",
       "      <td>7192</td>\n",
       "      <td>Laura</td>\n",
       "      <td>Manhattan</td>\n",
       "      <td>East Harlem</td>\n",
       "      <td>40.79851</td>\n",
       "      <td>-73.94399</td>\n",
       "      <td>Entire home/apt</td>\n",
       "      <td>80</td>\n",
       "      <td>10</td>\n",
       "      <td>9</td>\n",
       "      <td>2018-11-19</td>\n",
       "      <td>0.10</td>\n",
       "      <td>1</td>\n",
       "      <td>0</td>\n",
       "    </tr>\n",
       "    <tr>\n",
       "      <th>...</th>\n",
       "      <td>...</td>\n",
       "      <td>...</td>\n",
       "      <td>...</td>\n",
       "      <td>...</td>\n",
       "      <td>...</td>\n",
       "      <td>...</td>\n",
       "      <td>...</td>\n",
       "      <td>...</td>\n",
       "      <td>...</td>\n",
       "      <td>...</td>\n",
       "      <td>...</td>\n",
       "      <td>...</td>\n",
       "      <td>...</td>\n",
       "      <td>...</td>\n",
       "      <td>...</td>\n",
       "      <td>...</td>\n",
       "    </tr>\n",
       "    <tr>\n",
       "      <th>48890</th>\n",
       "      <td>36484665</td>\n",
       "      <td>Charming one bedroom - newly renovated rowhouse</td>\n",
       "      <td>8232441</td>\n",
       "      <td>Sabrina</td>\n",
       "      <td>Brooklyn</td>\n",
       "      <td>Bedford-Stuyvesant</td>\n",
       "      <td>40.67853</td>\n",
       "      <td>-73.94995</td>\n",
       "      <td>Private room</td>\n",
       "      <td>70</td>\n",
       "      <td>2</td>\n",
       "      <td>0</td>\n",
       "      <td>NOreview</td>\n",
       "      <td>0.00</td>\n",
       "      <td>2</td>\n",
       "      <td>9</td>\n",
       "    </tr>\n",
       "    <tr>\n",
       "      <th>48891</th>\n",
       "      <td>36485057</td>\n",
       "      <td>Affordable room in Bushwick/East Williamsburg</td>\n",
       "      <td>6570630</td>\n",
       "      <td>Marisol</td>\n",
       "      <td>Brooklyn</td>\n",
       "      <td>Bushwick</td>\n",
       "      <td>40.70184</td>\n",
       "      <td>-73.93317</td>\n",
       "      <td>Private room</td>\n",
       "      <td>40</td>\n",
       "      <td>4</td>\n",
       "      <td>0</td>\n",
       "      <td>NOreview</td>\n",
       "      <td>0.00</td>\n",
       "      <td>2</td>\n",
       "      <td>36</td>\n",
       "    </tr>\n",
       "    <tr>\n",
       "      <th>48892</th>\n",
       "      <td>36485431</td>\n",
       "      <td>Sunny Studio at Historical Neighborhood</td>\n",
       "      <td>23492952</td>\n",
       "      <td>Ilgar &amp; Aysel</td>\n",
       "      <td>Manhattan</td>\n",
       "      <td>Harlem</td>\n",
       "      <td>40.81475</td>\n",
       "      <td>-73.94867</td>\n",
       "      <td>Entire home/apt</td>\n",
       "      <td>115</td>\n",
       "      <td>10</td>\n",
       "      <td>0</td>\n",
       "      <td>NOreview</td>\n",
       "      <td>0.00</td>\n",
       "      <td>1</td>\n",
       "      <td>27</td>\n",
       "    </tr>\n",
       "    <tr>\n",
       "      <th>48893</th>\n",
       "      <td>36485609</td>\n",
       "      <td>43rd St. Time Square-cozy single bed</td>\n",
       "      <td>30985759</td>\n",
       "      <td>Taz</td>\n",
       "      <td>Manhattan</td>\n",
       "      <td>Hell's Kitchen</td>\n",
       "      <td>40.75751</td>\n",
       "      <td>-73.99112</td>\n",
       "      <td>Shared room</td>\n",
       "      <td>55</td>\n",
       "      <td>1</td>\n",
       "      <td>0</td>\n",
       "      <td>NOreview</td>\n",
       "      <td>0.00</td>\n",
       "      <td>6</td>\n",
       "      <td>2</td>\n",
       "    </tr>\n",
       "    <tr>\n",
       "      <th>48894</th>\n",
       "      <td>36487245</td>\n",
       "      <td>Trendy duplex in the very heart of Hell's Kitchen</td>\n",
       "      <td>68119814</td>\n",
       "      <td>Christophe</td>\n",
       "      <td>Manhattan</td>\n",
       "      <td>Hell's Kitchen</td>\n",
       "      <td>40.76404</td>\n",
       "      <td>-73.98933</td>\n",
       "      <td>Private room</td>\n",
       "      <td>90</td>\n",
       "      <td>7</td>\n",
       "      <td>0</td>\n",
       "      <td>NOreview</td>\n",
       "      <td>0.00</td>\n",
       "      <td>1</td>\n",
       "      <td>23</td>\n",
       "    </tr>\n",
       "  </tbody>\n",
       "</table>\n",
       "<p>42621 rows × 16 columns</p>\n",
       "</div>"
      ],
      "text/plain": [
       "             id                                               name   host_id  \\\n",
       "0          2539                 Clean & quiet apt home by the park      2787   \n",
       "1          2595                              Skylit Midtown Castle      2845   \n",
       "2          3647                THE VILLAGE OF HARLEM....NEW YORK !      4632   \n",
       "3          3831                    Cozy Entire Floor of Brownstone      4869   \n",
       "4          5022   Entire Apt: Spacious Studio/Loft by central park      7192   \n",
       "...         ...                                                ...       ...   \n",
       "48890  36484665    Charming one bedroom - newly renovated rowhouse   8232441   \n",
       "48891  36485057      Affordable room in Bushwick/East Williamsburg   6570630   \n",
       "48892  36485431            Sunny Studio at Historical Neighborhood  23492952   \n",
       "48893  36485609               43rd St. Time Square-cozy single bed  30985759   \n",
       "48894  36487245  Trendy duplex in the very heart of Hell's Kitchen  68119814   \n",
       "\n",
       "           host_name neighbourhood_group       neighbourhood  latitude  \\\n",
       "0               John            Brooklyn          Kensington  40.64749   \n",
       "1           Jennifer           Manhattan             Midtown  40.75362   \n",
       "2          Elisabeth           Manhattan              Harlem  40.80902   \n",
       "3        LisaRoxanne            Brooklyn        Clinton Hill  40.68514   \n",
       "4              Laura           Manhattan         East Harlem  40.79851   \n",
       "...              ...                 ...                 ...       ...   \n",
       "48890        Sabrina            Brooklyn  Bedford-Stuyvesant  40.67853   \n",
       "48891        Marisol            Brooklyn            Bushwick  40.70184   \n",
       "48892  Ilgar & Aysel           Manhattan              Harlem  40.81475   \n",
       "48893            Taz           Manhattan      Hell's Kitchen  40.75751   \n",
       "48894     Christophe           Manhattan      Hell's Kitchen  40.76404   \n",
       "\n",
       "       longitude        room_type  price  minimum_nights  number_of_reviews  \\\n",
       "0      -73.97237     Private room    149               1                  9   \n",
       "1      -73.98377  Entire home/apt    225               1                 45   \n",
       "2      -73.94190     Private room    150               3                  0   \n",
       "3      -73.95976  Entire home/apt     89               1                270   \n",
       "4      -73.94399  Entire home/apt     80              10                  9   \n",
       "...          ...              ...    ...             ...                ...   \n",
       "48890  -73.94995     Private room     70               2                  0   \n",
       "48891  -73.93317     Private room     40               4                  0   \n",
       "48892  -73.94867  Entire home/apt    115              10                  0   \n",
       "48893  -73.99112      Shared room     55               1                  0   \n",
       "48894  -73.98933     Private room     90               7                  0   \n",
       "\n",
       "      last_review  reviews_per_month  calculated_host_listings_count  \\\n",
       "0      2018-10-19               0.21                               6   \n",
       "1      2019-05-21               0.38                               2   \n",
       "2        NOreview               0.00                               1   \n",
       "3      2019-07-05               4.64                               1   \n",
       "4      2018-11-19               0.10                               1   \n",
       "...           ...                ...                             ...   \n",
       "48890    NOreview               0.00                               2   \n",
       "48891    NOreview               0.00                               2   \n",
       "48892    NOreview               0.00                               1   \n",
       "48893    NOreview               0.00                               6   \n",
       "48894    NOreview               0.00                               1   \n",
       "\n",
       "       availability_365  \n",
       "0                   365  \n",
       "1                   355  \n",
       "2                   365  \n",
       "3                   194  \n",
       "4                     0  \n",
       "...                 ...  \n",
       "48890                 9  \n",
       "48891                36  \n",
       "48892                27  \n",
       "48893                 2  \n",
       "48894                23  \n",
       "\n",
       "[42621 rows x 16 columns]"
      ]
     },
     "execution_count": 33,
     "metadata": {},
     "output_type": "execute_result"
    }
   ],
   "source": [
    "# Removing outliers and showing results (head and tail)\n",
    "airbnb = airbnb[airbnb[\"price\"]>10]\n",
    "airbnb"
   ]
  },
  {
   "cell_type": "code",
   "execution_count": 34,
   "metadata": {},
   "outputs": [
    {
     "data": {
      "text/plain": [
       "count    42621.000000\n",
       "mean       107.968232\n",
       "std         53.757590\n",
       "min         11.000000\n",
       "25%         65.000000\n",
       "50%         99.000000\n",
       "75%        150.000000\n",
       "max        249.000000\n",
       "Name: price, dtype: float64"
      ]
     },
     "execution_count": 34,
     "metadata": {},
     "output_type": "execute_result"
    }
   ],
   "source": [
    "# Summary statistics for price target attribute after all the changes\n",
    "airbnb[\"price\"].describe()"
   ]
  },
  {
   "cell_type": "markdown",
   "metadata": {},
   "source": [
    "Now, the statistics for the data seem to be consistent with the real problem situation, having prices which vary in the **range: from 11 up to 249 dollars**. The **average price** is now **107.97 $**."
   ]
  },
  {
   "cell_type": "markdown",
   "metadata": {},
   "source": [
    "## 3.2 - Useful summary statistics for other variables"
   ]
  },
  {
   "cell_type": "markdown",
   "metadata": {},
   "source": [
    "I will try to make some considerations about some of the other variables as well."
   ]
  },
  {
   "cell_type": "markdown",
   "metadata": {},
   "source": [
    "#### 3.2.1 - Statistics for minimum_nights attribute"
   ]
  },
  {
   "cell_type": "code",
   "execution_count": 35,
   "metadata": {},
   "outputs": [
    {
     "data": {
      "text/plain": [
       "count    42621.000000\n",
       "mean         6.858755\n",
       "std         19.991301\n",
       "min          1.000000\n",
       "25%          1.000000\n",
       "50%          2.000000\n",
       "75%          5.000000\n",
       "max       1250.000000\n",
       "Name: minimum_nights, dtype: float64"
      ]
     },
     "execution_count": 35,
     "metadata": {},
     "output_type": "execute_result"
    }
   ],
   "source": [
    "# Summary statistics for minimum_nights attribute\n",
    "airbnb[\"minimum_nights\"].describe()"
   ]
  },
  {
   "cell_type": "markdown",
   "metadata": {},
   "source": [
    "The maximum value seems to be quite strange, since it refers to *minimum_nights* stays equal to 3 years and half at least. Moreover, it is very far from the upper quartile of the distribution, which means there are few very high values, that we can actually consider as outliers. Let's try to understand it in a deeeper way."
   ]
  },
  {
   "cell_type": "code",
   "execution_count": 36,
   "metadata": {},
   "outputs": [
    {
     "name": "stdout",
     "output_type": "stream",
     "text": [
      "The upper 98.9% quantile is : 31\n"
     ]
    }
   ],
   "source": [
    "uQuan_minNights = np.quantile(airbnb['minimum_nights'],0.989)\n",
    "print('The upper 98.9% quantile is :',int(uQuan_minNights))"
   ]
  },
  {
   "cell_type": "markdown",
   "metadata": {},
   "source": [
    "This means that the **98.9% of the data** is described by the only listing with a **minimum_nights** stay **less than 31 days** (a month). Let's store this result into our **airbnb** dataframe."
   ]
  },
  {
   "cell_type": "code",
   "execution_count": 37,
   "metadata": {},
   "outputs": [
    {
     "data": {
      "text/html": [
       "<div>\n",
       "<style scoped>\n",
       "    .dataframe tbody tr th:only-of-type {\n",
       "        vertical-align: middle;\n",
       "    }\n",
       "\n",
       "    .dataframe tbody tr th {\n",
       "        vertical-align: top;\n",
       "    }\n",
       "\n",
       "    .dataframe thead th {\n",
       "        text-align: right;\n",
       "    }\n",
       "</style>\n",
       "<table border=\"1\" class=\"dataframe\">\n",
       "  <thead>\n",
       "    <tr style=\"text-align: right;\">\n",
       "      <th></th>\n",
       "      <th>id</th>\n",
       "      <th>name</th>\n",
       "      <th>host_id</th>\n",
       "      <th>host_name</th>\n",
       "      <th>neighbourhood_group</th>\n",
       "      <th>neighbourhood</th>\n",
       "      <th>latitude</th>\n",
       "      <th>longitude</th>\n",
       "      <th>room_type</th>\n",
       "      <th>price</th>\n",
       "      <th>minimum_nights</th>\n",
       "      <th>number_of_reviews</th>\n",
       "      <th>last_review</th>\n",
       "      <th>reviews_per_month</th>\n",
       "      <th>calculated_host_listings_count</th>\n",
       "      <th>availability_365</th>\n",
       "    </tr>\n",
       "  </thead>\n",
       "  <tbody>\n",
       "    <tr>\n",
       "      <th>0</th>\n",
       "      <td>2539</td>\n",
       "      <td>Clean &amp; quiet apt home by the park</td>\n",
       "      <td>2787</td>\n",
       "      <td>John</td>\n",
       "      <td>Brooklyn</td>\n",
       "      <td>Kensington</td>\n",
       "      <td>40.64749</td>\n",
       "      <td>-73.97237</td>\n",
       "      <td>Private room</td>\n",
       "      <td>149</td>\n",
       "      <td>1</td>\n",
       "      <td>9</td>\n",
       "      <td>2018-10-19</td>\n",
       "      <td>0.21</td>\n",
       "      <td>6</td>\n",
       "      <td>365</td>\n",
       "    </tr>\n",
       "    <tr>\n",
       "      <th>1</th>\n",
       "      <td>2595</td>\n",
       "      <td>Skylit Midtown Castle</td>\n",
       "      <td>2845</td>\n",
       "      <td>Jennifer</td>\n",
       "      <td>Manhattan</td>\n",
       "      <td>Midtown</td>\n",
       "      <td>40.75362</td>\n",
       "      <td>-73.98377</td>\n",
       "      <td>Entire home/apt</td>\n",
       "      <td>225</td>\n",
       "      <td>1</td>\n",
       "      <td>45</td>\n",
       "      <td>2019-05-21</td>\n",
       "      <td>0.38</td>\n",
       "      <td>2</td>\n",
       "      <td>355</td>\n",
       "    </tr>\n",
       "    <tr>\n",
       "      <th>2</th>\n",
       "      <td>3647</td>\n",
       "      <td>THE VILLAGE OF HARLEM....NEW YORK !</td>\n",
       "      <td>4632</td>\n",
       "      <td>Elisabeth</td>\n",
       "      <td>Manhattan</td>\n",
       "      <td>Harlem</td>\n",
       "      <td>40.80902</td>\n",
       "      <td>-73.94190</td>\n",
       "      <td>Private room</td>\n",
       "      <td>150</td>\n",
       "      <td>3</td>\n",
       "      <td>0</td>\n",
       "      <td>NOreview</td>\n",
       "      <td>0.00</td>\n",
       "      <td>1</td>\n",
       "      <td>365</td>\n",
       "    </tr>\n",
       "    <tr>\n",
       "      <th>3</th>\n",
       "      <td>3831</td>\n",
       "      <td>Cozy Entire Floor of Brownstone</td>\n",
       "      <td>4869</td>\n",
       "      <td>LisaRoxanne</td>\n",
       "      <td>Brooklyn</td>\n",
       "      <td>Clinton Hill</td>\n",
       "      <td>40.68514</td>\n",
       "      <td>-73.95976</td>\n",
       "      <td>Entire home/apt</td>\n",
       "      <td>89</td>\n",
       "      <td>1</td>\n",
       "      <td>270</td>\n",
       "      <td>2019-07-05</td>\n",
       "      <td>4.64</td>\n",
       "      <td>1</td>\n",
       "      <td>194</td>\n",
       "    </tr>\n",
       "    <tr>\n",
       "      <th>4</th>\n",
       "      <td>5022</td>\n",
       "      <td>Entire Apt: Spacious Studio/Loft by central park</td>\n",
       "      <td>7192</td>\n",
       "      <td>Laura</td>\n",
       "      <td>Manhattan</td>\n",
       "      <td>East Harlem</td>\n",
       "      <td>40.79851</td>\n",
       "      <td>-73.94399</td>\n",
       "      <td>Entire home/apt</td>\n",
       "      <td>80</td>\n",
       "      <td>10</td>\n",
       "      <td>9</td>\n",
       "      <td>2018-11-19</td>\n",
       "      <td>0.10</td>\n",
       "      <td>1</td>\n",
       "      <td>0</td>\n",
       "    </tr>\n",
       "  </tbody>\n",
       "</table>\n",
       "</div>"
      ],
      "text/plain": [
       "     id                                              name  host_id  \\\n",
       "0  2539                Clean & quiet apt home by the park     2787   \n",
       "1  2595                             Skylit Midtown Castle     2845   \n",
       "2  3647               THE VILLAGE OF HARLEM....NEW YORK !     4632   \n",
       "3  3831                   Cozy Entire Floor of Brownstone     4869   \n",
       "4  5022  Entire Apt: Spacious Studio/Loft by central park     7192   \n",
       "\n",
       "     host_name neighbourhood_group neighbourhood  latitude  longitude  \\\n",
       "0         John            Brooklyn    Kensington  40.64749  -73.97237   \n",
       "1     Jennifer           Manhattan       Midtown  40.75362  -73.98377   \n",
       "2    Elisabeth           Manhattan        Harlem  40.80902  -73.94190   \n",
       "3  LisaRoxanne            Brooklyn  Clinton Hill  40.68514  -73.95976   \n",
       "4        Laura           Manhattan   East Harlem  40.79851  -73.94399   \n",
       "\n",
       "         room_type  price  minimum_nights  number_of_reviews last_review  \\\n",
       "0     Private room    149               1                  9  2018-10-19   \n",
       "1  Entire home/apt    225               1                 45  2019-05-21   \n",
       "2     Private room    150               3                  0    NOreview   \n",
       "3  Entire home/apt     89               1                270  2019-07-05   \n",
       "4  Entire home/apt     80              10                  9  2018-11-19   \n",
       "\n",
       "   reviews_per_month  calculated_host_listings_count  availability_365  \n",
       "0               0.21                               6               365  \n",
       "1               0.38                               2               355  \n",
       "2               0.00                               1               365  \n",
       "3               4.64                               1               194  \n",
       "4               0.10                               1                 0  "
      ]
     },
     "execution_count": 37,
     "metadata": {},
     "output_type": "execute_result"
    }
   ],
   "source": [
    "airbnb = airbnb[airbnb['minimum_nights']<=uQuan_minNights]\n",
    "airbnb.head()"
   ]
  },
  {
   "cell_type": "markdown",
   "metadata": {},
   "source": [
    "#### 3.2.2 - Statistics for number_of_reviews and reviews_per_month attributes"
   ]
  },
  {
   "cell_type": "code",
   "execution_count": 38,
   "metadata": {},
   "outputs": [
    {
     "data": {
      "text/plain": [
       "count    42157.000000\n",
       "mean         1.128404\n",
       "std          1.628720\n",
       "min          0.000000\n",
       "25%          0.050000\n",
       "50%          0.410000\n",
       "75%          1.660000\n",
       "max         58.500000\n",
       "Name: reviews_per_month, dtype: float64"
      ]
     },
     "execution_count": 38,
     "metadata": {},
     "output_type": "execute_result"
    }
   ],
   "source": [
    "# Summary statistics for reviews_per_month attribute\n",
    "airbnb[\"reviews_per_month\"].describe()"
   ]
  },
  {
   "cell_type": "markdown",
   "metadata": {},
   "source": [
    "This seems to be interesting, since some listing shows 58.5 *reviews_per_month* (which is not reasonable since, considering the limit case of a whole-month-busy listing, the maximum threshold must be set up to 31 *reviews_per_month*). Let's investigate values greater than 31."
   ]
  },
  {
   "cell_type": "code",
   "execution_count": 39,
   "metadata": {},
   "outputs": [
    {
     "data": {
      "text/html": [
       "<div>\n",
       "<style scoped>\n",
       "    .dataframe tbody tr th:only-of-type {\n",
       "        vertical-align: middle;\n",
       "    }\n",
       "\n",
       "    .dataframe tbody tr th {\n",
       "        vertical-align: top;\n",
       "    }\n",
       "\n",
       "    .dataframe thead th {\n",
       "        text-align: right;\n",
       "    }\n",
       "</style>\n",
       "<table border=\"1\" class=\"dataframe\">\n",
       "  <thead>\n",
       "    <tr style=\"text-align: right;\">\n",
       "      <th></th>\n",
       "      <th>id</th>\n",
       "      <th>name</th>\n",
       "      <th>host_id</th>\n",
       "      <th>host_name</th>\n",
       "      <th>neighbourhood_group</th>\n",
       "      <th>neighbourhood</th>\n",
       "      <th>latitude</th>\n",
       "      <th>longitude</th>\n",
       "      <th>room_type</th>\n",
       "      <th>price</th>\n",
       "      <th>minimum_nights</th>\n",
       "      <th>number_of_reviews</th>\n",
       "      <th>last_review</th>\n",
       "      <th>reviews_per_month</th>\n",
       "      <th>calculated_host_listings_count</th>\n",
       "      <th>availability_365</th>\n",
       "    </tr>\n",
       "  </thead>\n",
       "  <tbody>\n",
       "    <tr>\n",
       "      <th>42075</th>\n",
       "      <td>32678719</td>\n",
       "      <td>Enjoy great views of the City in our Deluxe Room!</td>\n",
       "      <td>244361589</td>\n",
       "      <td>Row NYC</td>\n",
       "      <td>Manhattan</td>\n",
       "      <td>Theater District</td>\n",
       "      <td>40.75918</td>\n",
       "      <td>-73.98801</td>\n",
       "      <td>Private room</td>\n",
       "      <td>100</td>\n",
       "      <td>1</td>\n",
       "      <td>156</td>\n",
       "      <td>2019-07-07</td>\n",
       "      <td>58.5</td>\n",
       "      <td>9</td>\n",
       "      <td>299</td>\n",
       "    </tr>\n",
       "  </tbody>\n",
       "</table>\n",
       "</div>"
      ],
      "text/plain": [
       "             id                                               name    host_id  \\\n",
       "42075  32678719  Enjoy great views of the City in our Deluxe Room!  244361589   \n",
       "\n",
       "      host_name neighbourhood_group     neighbourhood  latitude  longitude  \\\n",
       "42075   Row NYC           Manhattan  Theater District  40.75918  -73.98801   \n",
       "\n",
       "          room_type  price  minimum_nights  number_of_reviews last_review  \\\n",
       "42075  Private room    100               1                156  2019-07-07   \n",
       "\n",
       "       reviews_per_month  calculated_host_listings_count  availability_365  \n",
       "42075               58.5                               9               299  "
      ]
     },
     "execution_count": 39,
     "metadata": {},
     "output_type": "execute_result"
    }
   ],
   "source": [
    "# Values greater than the threshold for reviews_per_month\n",
    "airbnb[airbnb[\"reviews_per_month\"]>31]"
   ]
  },
  {
   "cell_type": "markdown",
   "metadata": {},
   "source": [
    "Actually, there is only one value which is greater than the threshold, hence we can easily drop it in the **airbnb** dataframe."
   ]
  },
  {
   "cell_type": "code",
   "execution_count": 40,
   "metadata": {},
   "outputs": [],
   "source": [
    "# Removing outlier value for reviews_per_month\n",
    "airbnb = airbnb[airbnb[\"reviews_per_month\"]<31]"
   ]
  },
  {
   "cell_type": "markdown",
   "metadata": {},
   "source": [
    "Let's proceed with **number_of_reviews**."
   ]
  },
  {
   "cell_type": "code",
   "execution_count": 41,
   "metadata": {},
   "outputs": [
    {
     "data": {
      "text/plain": [
       "count    42156.000000\n",
       "mean        24.570239\n",
       "std         46.080624\n",
       "min          0.000000\n",
       "25%          1.000000\n",
       "50%          6.000000\n",
       "75%         25.000000\n",
       "max        629.000000\n",
       "Name: number_of_reviews, dtype: float64"
      ]
     },
     "execution_count": 41,
     "metadata": {},
     "output_type": "execute_result"
    }
   ],
   "source": [
    "# Summary statistics for number_of_reviews attribute\n",
    "airbnb[\"number_of_reviews\"].describe()"
   ]
  },
  {
   "cell_type": "markdown",
   "metadata": {},
   "source": [
    "As previously noticed, the maximum value seems to be quite strange. Moreover, it is very far from the upper quartile of the distribution, which means there are few very high values, that we can actually consider as outliers. Let's try to understand it in a deeeper way."
   ]
  },
  {
   "cell_type": "code",
   "execution_count": 42,
   "metadata": {},
   "outputs": [
    {
     "name": "stdout",
     "output_type": "stream",
     "text": [
      "The upper 95% quantile is : 119\n"
     ]
    }
   ],
   "source": [
    "uQuan_numRev = np.quantile(airbnb['number_of_reviews'],0.95)\n",
    "print('The upper 95% quantile is :',int(uQuan_numRev))"
   ]
  },
  {
   "cell_type": "markdown",
   "metadata": {},
   "source": [
    "This means that the **95% of the data** is described by the only listings with a **number_of_reviews less than 119**. Let's store this result into our **airbnb** dataframe."
   ]
  },
  {
   "cell_type": "code",
   "execution_count": 43,
   "metadata": {},
   "outputs": [],
   "source": [
    "airbnb = airbnb[airbnb['number_of_reviews']<=uQuan_numRev]"
   ]
  },
  {
   "cell_type": "markdown",
   "metadata": {},
   "source": [
    "#### 3.2.3 - Statistics for availability_365 attribute"
   ]
  },
  {
   "cell_type": "code",
   "execution_count": 44,
   "metadata": {},
   "outputs": [
    {
     "data": {
      "text/plain": [
       "count    40071.000000\n",
       "mean       103.311597\n",
       "std        129.218739\n",
       "min          0.000000\n",
       "25%          0.000000\n",
       "50%         30.000000\n",
       "75%        190.000000\n",
       "max        365.000000\n",
       "Name: availability_365, dtype: float64"
      ]
     },
     "execution_count": 44,
     "metadata": {},
     "output_type": "execute_result"
    }
   ],
   "source": [
    "airbnb[\"availability_365\"].describe()"
   ]
  },
  {
   "cell_type": "markdown",
   "metadata": {},
   "source": [
    "This seems quite strange for minimum value. What's the reason for having a listing in Airbnb if you don't make it available during the year? This is beacause Airbnb allows you to set your listing as unavailable and not take it down completely. This results in listings that are temporarily unavailable due to host preferences or they were set in such a way when data was collected. Hence we cannot treat them as outliers or bad values."
   ]
  },
  {
   "cell_type": "markdown",
   "metadata": {},
   "source": [
    "#### 3.2.4 - Statistics for latitude and longitude attributes"
   ]
  },
  {
   "cell_type": "code",
   "execution_count": 45,
   "metadata": {},
   "outputs": [
    {
     "data": {
      "text/plain": [
       "count    40071.000000\n",
       "mean        40.727964\n",
       "std          0.056341\n",
       "min         40.499790\n",
       "25%         40.688530\n",
       "50%         40.720280\n",
       "75%         40.763710\n",
       "max         40.913060\n",
       "Name: latitude, dtype: float64"
      ]
     },
     "execution_count": 45,
     "metadata": {},
     "output_type": "execute_result"
    }
   ],
   "source": [
    "airbnb[\"latitude\"].describe()"
   ]
  },
  {
   "cell_type": "markdown",
   "metadata": {},
   "source": [
    "The **\"latitude\"** (abbreviation: Lat., **φ**, or phi) of a point on Earth's surface is the angle between the equatorial plane and the straight line that passes through that point and through (or close to) the center of the Earth. Hence, the latitude is a meausere of how a point (each listing in this case) is spread toward the Northern or Southern hemisphere of the globe."
   ]
  },
  {
   "cell_type": "code",
   "execution_count": 46,
   "metadata": {},
   "outputs": [
    {
     "data": {
      "text/plain": [
       "count    40071.000000\n",
       "mean       -73.949069\n",
       "std          0.046745\n",
       "min        -74.244420\n",
       "25%        -73.979980\n",
       "50%        -73.953030\n",
       "75%        -73.931840\n",
       "max        -73.712990\n",
       "Name: longitude, dtype: float64"
      ]
     },
     "execution_count": 46,
     "metadata": {},
     "output_type": "execute_result"
    }
   ],
   "source": [
    "airbnb[\"longitude\"].describe()"
   ]
  },
  {
   "cell_type": "markdown",
   "metadata": {},
   "source": [
    "The **\"longitude\"** (abbreviation: Long., **λ**, or lambda) of a point on Earth's surface is the angle east or west of a reference meridian to another meridian that passes through that point. All meridians are halves of great ellipses (often called great circles), which converge at the North and South Poles. The meridian of the British Royal Observatory in Greenwich, in southeast London, England, is the international prime meridian. Hence, the longitude is a meausere of how a point (each listing in this case) is spread toward the Eastern or Western hemisphere of the globe.\n"
   ]
  },
  {
   "cell_type": "markdown",
   "metadata": {},
   "source": [
    "This seems to be interesting; the difference between the maximum and the minimum value in a Decimal Degree scale is greater for *longitude* over *latitude*, making me to think about an higher spread of the listings in horizontal manner with respect to a vertical one."
   ]
  },
  {
   "cell_type": "markdown",
   "metadata": {},
   "source": [
    "## 3.3 - Useful statistics between target and other variables"
   ]
  },
  {
   "cell_type": "markdown",
   "metadata": {},
   "source": [
    "In this section, we will explore the **correlation** between all the numerical attributes with respect to the label, which is **price**.\n",
    "\n",
    "Let's recall what we mean with $correlation$: it is a statistical measure which represents the degree of association between two variables or whether there is a relationship between them (but not necessarily a relationship of causality). With the correlation we do not expect that between the two variables X and Y there is a causal relationship (e.g. two variables could be related due to the fact that both are dependent on a third variable, or simply the correlation could be an effect of chance)."
   ]
  },
  {
   "cell_type": "code",
   "execution_count": 47,
   "metadata": {},
   "outputs": [
    {
     "data": {
      "text/plain": [
       "id                               -0.055691\n",
       "host_id                          -0.070729\n",
       "latitude                          0.068991\n",
       "longitude                        -0.306601\n",
       "price                             1.000000\n",
       "minimum_nights                    0.065393\n",
       "number_of_reviews                -0.012690\n",
       "reviews_per_month                -0.044829\n",
       "calculated_host_listings_count    0.168848\n",
       "availability_365                  0.039942\n",
       "Name: price, dtype: float64"
      ]
     },
     "execution_count": 47,
     "metadata": {},
     "output_type": "execute_result"
    }
   ],
   "source": [
    "# Correlation between price and other numerical values\n",
    "airbnb.corr()['price']"
   ]
  },
  {
   "cell_type": "markdown",
   "metadata": {},
   "source": [
    "From the results above, we can conclude that the **target** variable is not so correlated with the others, except for **longitude** feature above average. "
   ]
  },
  {
   "cell_type": "markdown",
   "metadata": {},
   "source": [
    "Let's visualize some useful graphical representation."
   ]
  },
  {
   "cell_type": "code",
   "execution_count": 48,
   "metadata": {},
   "outputs": [
    {
     "data": {
      "text/html": [
       "<div>\n",
       "<style scoped>\n",
       "    .dataframe tbody tr th:only-of-type {\n",
       "        vertical-align: middle;\n",
       "    }\n",
       "\n",
       "    .dataframe tbody tr th {\n",
       "        vertical-align: top;\n",
       "    }\n",
       "\n",
       "    .dataframe thead th {\n",
       "        text-align: right;\n",
       "    }\n",
       "</style>\n",
       "<table border=\"1\" class=\"dataframe\">\n",
       "  <thead>\n",
       "    <tr style=\"text-align: right;\">\n",
       "      <th></th>\n",
       "      <th></th>\n",
       "      <th>price</th>\n",
       "      <th>minimum_nights</th>\n",
       "      <th>number_of_reviews</th>\n",
       "      <th>reviews_per_month</th>\n",
       "    </tr>\n",
       "    <tr>\n",
       "      <th>neighbourhood_group</th>\n",
       "      <th>room_type</th>\n",
       "      <th></th>\n",
       "      <th></th>\n",
       "      <th></th>\n",
       "      <th></th>\n",
       "    </tr>\n",
       "  </thead>\n",
       "  <tbody>\n",
       "    <tr>\n",
       "      <th rowspan=\"3\" valign=\"top\">Bronx</th>\n",
       "      <th>Entire home/apt</th>\n",
       "      <td>100.0</td>\n",
       "      <td>2.0</td>\n",
       "      <td>11.0</td>\n",
       "      <td>1.240</td>\n",
       "    </tr>\n",
       "    <tr>\n",
       "      <th>Private room</th>\n",
       "      <td>54.0</td>\n",
       "      <td>2.0</td>\n",
       "      <td>8.0</td>\n",
       "      <td>0.730</td>\n",
       "    </tr>\n",
       "    <tr>\n",
       "      <th>Shared room</th>\n",
       "      <td>40.0</td>\n",
       "      <td>1.0</td>\n",
       "      <td>3.0</td>\n",
       "      <td>0.525</td>\n",
       "    </tr>\n",
       "    <tr>\n",
       "      <th rowspan=\"3\" valign=\"top\">Brooklyn</th>\n",
       "      <th>Entire home/apt</th>\n",
       "      <td>130.0</td>\n",
       "      <td>3.0</td>\n",
       "      <td>7.0</td>\n",
       "      <td>0.400</td>\n",
       "    </tr>\n",
       "    <tr>\n",
       "      <th>Private room</th>\n",
       "      <td>63.0</td>\n",
       "      <td>2.0</td>\n",
       "      <td>4.0</td>\n",
       "      <td>0.290</td>\n",
       "    </tr>\n",
       "    <tr>\n",
       "      <th>Shared room</th>\n",
       "      <td>35.0</td>\n",
       "      <td>2.0</td>\n",
       "      <td>2.0</td>\n",
       "      <td>0.250</td>\n",
       "    </tr>\n",
       "    <tr>\n",
       "      <th rowspan=\"3\" valign=\"top\">Manhattan</th>\n",
       "      <th>Entire home/apt</th>\n",
       "      <td>160.0</td>\n",
       "      <td>3.0</td>\n",
       "      <td>4.0</td>\n",
       "      <td>0.230</td>\n",
       "    </tr>\n",
       "    <tr>\n",
       "      <th>Private room</th>\n",
       "      <td>87.0</td>\n",
       "      <td>2.0</td>\n",
       "      <td>4.0</td>\n",
       "      <td>0.330</td>\n",
       "    </tr>\n",
       "    <tr>\n",
       "      <th>Shared room</th>\n",
       "      <td>68.0</td>\n",
       "      <td>1.0</td>\n",
       "      <td>6.0</td>\n",
       "      <td>0.580</td>\n",
       "    </tr>\n",
       "    <tr>\n",
       "      <th rowspan=\"3\" valign=\"top\">Queens</th>\n",
       "      <th>Entire home/apt</th>\n",
       "      <td>115.0</td>\n",
       "      <td>2.0</td>\n",
       "      <td>7.0</td>\n",
       "      <td>0.780</td>\n",
       "    </tr>\n",
       "    <tr>\n",
       "      <th>Private room</th>\n",
       "      <td>60.0</td>\n",
       "      <td>2.0</td>\n",
       "      <td>6.0</td>\n",
       "      <td>0.640</td>\n",
       "    </tr>\n",
       "    <tr>\n",
       "      <th>Shared room</th>\n",
       "      <td>37.0</td>\n",
       "      <td>1.0</td>\n",
       "      <td>3.0</td>\n",
       "      <td>0.640</td>\n",
       "    </tr>\n",
       "    <tr>\n",
       "      <th rowspan=\"3\" valign=\"top\">Staten Island</th>\n",
       "      <th>Entire home/apt</th>\n",
       "      <td>100.0</td>\n",
       "      <td>2.0</td>\n",
       "      <td>15.0</td>\n",
       "      <td>1.470</td>\n",
       "    </tr>\n",
       "    <tr>\n",
       "      <th>Private room</th>\n",
       "      <td>52.0</td>\n",
       "      <td>2.0</td>\n",
       "      <td>11.0</td>\n",
       "      <td>0.930</td>\n",
       "    </tr>\n",
       "    <tr>\n",
       "      <th>Shared room</th>\n",
       "      <td>30.0</td>\n",
       "      <td>2.0</td>\n",
       "      <td>1.0</td>\n",
       "      <td>0.060</td>\n",
       "    </tr>\n",
       "  </tbody>\n",
       "</table>\n",
       "</div>"
      ],
      "text/plain": [
       "                                     price  minimum_nights  number_of_reviews  \\\n",
       "neighbourhood_group room_type                                                   \n",
       "Bronx               Entire home/apt  100.0             2.0               11.0   \n",
       "                    Private room      54.0             2.0                8.0   \n",
       "                    Shared room       40.0             1.0                3.0   \n",
       "Brooklyn            Entire home/apt  130.0             3.0                7.0   \n",
       "                    Private room      63.0             2.0                4.0   \n",
       "                    Shared room       35.0             2.0                2.0   \n",
       "Manhattan           Entire home/apt  160.0             3.0                4.0   \n",
       "                    Private room      87.0             2.0                4.0   \n",
       "                    Shared room       68.0             1.0                6.0   \n",
       "Queens              Entire home/apt  115.0             2.0                7.0   \n",
       "                    Private room      60.0             2.0                6.0   \n",
       "                    Shared room       37.0             1.0                3.0   \n",
       "Staten Island       Entire home/apt  100.0             2.0               15.0   \n",
       "                    Private room      52.0             2.0               11.0   \n",
       "                    Shared room       30.0             2.0                1.0   \n",
       "\n",
       "                                     reviews_per_month  \n",
       "neighbourhood_group room_type                           \n",
       "Bronx               Entire home/apt              1.240  \n",
       "                    Private room                 0.730  \n",
       "                    Shared room                  0.525  \n",
       "Brooklyn            Entire home/apt              0.400  \n",
       "                    Private room                 0.290  \n",
       "                    Shared room                  0.250  \n",
       "Manhattan           Entire home/apt              0.230  \n",
       "                    Private room                 0.330  \n",
       "                    Shared room                  0.580  \n",
       "Queens              Entire home/apt              0.780  \n",
       "                    Private room                 0.640  \n",
       "                    Shared room                  0.640  \n",
       "Staten Island       Entire home/apt              1.470  \n",
       "                    Private room                 0.930  \n",
       "                    Shared room                  0.060  "
      ]
     },
     "execution_count": 48,
     "metadata": {},
     "output_type": "execute_result"
    }
   ],
   "source": [
    "# Creating a dataframe with median values for each borough depending on the room_type \n",
    "# I considered median since mean highly depend on outliers values\n",
    "med_roomtype_borough = airbnb.groupby(['neighbourhood_group', 'room_type']).median()[['price', 'minimum_nights', 'number_of_reviews','reviews_per_month']]\n",
    "med_roomtype_borough"
   ]
  },
  {
   "cell_type": "code",
   "execution_count": 49,
   "metadata": {},
   "outputs": [
    {
     "data": {
      "image/png": "[encoded data removed]",
      "text/plain": [
       "<Figure size 1080x360 with 3 Axes>"
      ]
     },
     "metadata": {
      "needs_background": "light"
     },
     "output_type": "display_data"
    }
   ],
   "source": [
    "# Avg prices per borough for each room type\n",
    "top_price = med_roomtype_borough.sort_values(by = 'price', ascending = False).reset_index()\n",
    "top_price_plot = sns.catplot(x = 'neighbourhood_group', y = 'price', data = top_price, ci = False, estimator = np.median, kind = 'point', col = 'room_type')"
   ]
  },
  {
   "cell_type": "markdown",
   "metadata": {},
   "source": [
    "As we can see, Manhattan has the most expensive listing offers for all the room types, while Staten Island has the cheapest ones. This further reinforces the previous observations we made as to why Staten Island hosts can be considered as the busiest ones."
   ]
  },
  {
   "cell_type": "markdown",
   "metadata": {},
   "source": [
    "## 3.4 - Useful statistics between all numerical features"
   ]
  },
  {
   "cell_type": "markdown",
   "metadata": {},
   "source": [
    "In this section, we will explore the **correlation** between all the numerical attributes with respect each other."
   ]
  },
  {
   "cell_type": "code",
   "execution_count": 50,
   "metadata": {},
   "outputs": [
    {
     "data": {
      "text/plain": [
       "<matplotlib.axes._subplots.AxesSubplot at 0x7fafaa4253d0>"
      ]
     },
     "execution_count": 50,
     "metadata": {},
     "output_type": "execute_result"
    },
    {
     "data": {
      "image/png": "[encoded data removed]",
      "text/plain": [
       "<Figure size 1080x576 with 2 Axes>"
      ]
     },
     "metadata": {
      "needs_background": "light"
     },
     "output_type": "display_data"
    }
   ],
   "source": [
    "# Plotting a correlation matrix for numerical variables \n",
    "corrMatrix = airbnb.corr()\n",
    "plt.figure(figsize=(15,8))\n",
    "sns.heatmap(corrMatrix, annot=True)"
   ]
  },
  {
   "cell_type": "markdown",
   "metadata": {},
   "source": [
    "From this observation, we can conclude that most of the numerical features do not really have strong correlations with each other directly, apart from `reviews_per_month` with `number_of_reviews` (which is reasonable) and `host_id` with `id` (this indicates that most of the host posted a listing were new in the platform, since the *host_id* tends to increase when the *id* does itself).\n",
    "\n",
    "Givent these results, we cannot say that there is too much **multicollinearity** between the indipendent variables that can bring to bad results in predicting the price. \n",
    "However, in understanding if the removal of some of the \"high\" correlated variables could bring interesting benefits to our model, I had to think about the shape of the dataset; in fact, since the number of predictors is very low, I decided to drop only **id** variable, trying to mitigate the **underfitting** we will face up with, given the nature of the problem (in predicting price, has no sense keeping it)."
   ]
  },
  {
   "cell_type": "markdown",
   "metadata": {},
   "source": [
    "---"
   ]
  },
  {
   "cell_type": "markdown",
   "metadata": {},
   "source": [
    "# 4. Model development"
   ]
  },
  {
   "cell_type": "markdown",
   "metadata": {},
   "source": [
    "In this section, we will start building our ML model with different approaches. First of all, let's create a dataframe useful for the model, without considering *not useful features*."
   ]
  },
  {
   "cell_type": "code",
   "execution_count": 51,
   "metadata": {},
   "outputs": [
    {
     "name": "stdout",
     "output_type": "stream",
     "text": [
      "(40071, 12)\n"
     ]
    },
    {
     "data": {
      "text/html": [
       "<div>\n",
       "<style scoped>\n",
       "    .dataframe tbody tr th:only-of-type {\n",
       "        vertical-align: middle;\n",
       "    }\n",
       "\n",
       "    .dataframe tbody tr th {\n",
       "        vertical-align: top;\n",
       "    }\n",
       "\n",
       "    .dataframe thead th {\n",
       "        text-align: right;\n",
       "    }\n",
       "</style>\n",
       "<table border=\"1\" class=\"dataframe\">\n",
       "  <thead>\n",
       "    <tr style=\"text-align: right;\">\n",
       "      <th></th>\n",
       "      <th>host_id</th>\n",
       "      <th>neighbourhood_group</th>\n",
       "      <th>neighbourhood</th>\n",
       "      <th>latitude</th>\n",
       "      <th>longitude</th>\n",
       "      <th>room_type</th>\n",
       "      <th>price</th>\n",
       "      <th>minimum_nights</th>\n",
       "      <th>number_of_reviews</th>\n",
       "      <th>reviews_per_month</th>\n",
       "      <th>calculated_host_listings_count</th>\n",
       "      <th>availability_365</th>\n",
       "    </tr>\n",
       "  </thead>\n",
       "  <tbody>\n",
       "    <tr>\n",
       "      <th>0</th>\n",
       "      <td>2787</td>\n",
       "      <td>Brooklyn</td>\n",
       "      <td>Kensington</td>\n",
       "      <td>40.64749</td>\n",
       "      <td>-73.97237</td>\n",
       "      <td>Private room</td>\n",
       "      <td>149</td>\n",
       "      <td>1</td>\n",
       "      <td>9</td>\n",
       "      <td>0.21</td>\n",
       "      <td>6</td>\n",
       "      <td>365</td>\n",
       "    </tr>\n",
       "    <tr>\n",
       "      <th>1</th>\n",
       "      <td>2845</td>\n",
       "      <td>Manhattan</td>\n",
       "      <td>Midtown</td>\n",
       "      <td>40.75362</td>\n",
       "      <td>-73.98377</td>\n",
       "      <td>Entire home/apt</td>\n",
       "      <td>225</td>\n",
       "      <td>1</td>\n",
       "      <td>45</td>\n",
       "      <td>0.38</td>\n",
       "      <td>2</td>\n",
       "      <td>355</td>\n",
       "    </tr>\n",
       "    <tr>\n",
       "      <th>2</th>\n",
       "      <td>4632</td>\n",
       "      <td>Manhattan</td>\n",
       "      <td>Harlem</td>\n",
       "      <td>40.80902</td>\n",
       "      <td>-73.94190</td>\n",
       "      <td>Private room</td>\n",
       "      <td>150</td>\n",
       "      <td>3</td>\n",
       "      <td>0</td>\n",
       "      <td>0.00</td>\n",
       "      <td>1</td>\n",
       "      <td>365</td>\n",
       "    </tr>\n",
       "    <tr>\n",
       "      <th>4</th>\n",
       "      <td>7192</td>\n",
       "      <td>Manhattan</td>\n",
       "      <td>East Harlem</td>\n",
       "      <td>40.79851</td>\n",
       "      <td>-73.94399</td>\n",
       "      <td>Entire home/apt</td>\n",
       "      <td>80</td>\n",
       "      <td>10</td>\n",
       "      <td>9</td>\n",
       "      <td>0.10</td>\n",
       "      <td>1</td>\n",
       "      <td>0</td>\n",
       "    </tr>\n",
       "    <tr>\n",
       "      <th>5</th>\n",
       "      <td>7322</td>\n",
       "      <td>Manhattan</td>\n",
       "      <td>Murray Hill</td>\n",
       "      <td>40.74767</td>\n",
       "      <td>-73.97500</td>\n",
       "      <td>Entire home/apt</td>\n",
       "      <td>200</td>\n",
       "      <td>3</td>\n",
       "      <td>74</td>\n",
       "      <td>0.59</td>\n",
       "      <td>1</td>\n",
       "      <td>129</td>\n",
       "    </tr>\n",
       "  </tbody>\n",
       "</table>\n",
       "</div>"
      ],
      "text/plain": [
       "   host_id neighbourhood_group neighbourhood  latitude  longitude  \\\n",
       "0     2787            Brooklyn    Kensington  40.64749  -73.97237   \n",
       "1     2845           Manhattan       Midtown  40.75362  -73.98377   \n",
       "2     4632           Manhattan        Harlem  40.80902  -73.94190   \n",
       "4     7192           Manhattan   East Harlem  40.79851  -73.94399   \n",
       "5     7322           Manhattan   Murray Hill  40.74767  -73.97500   \n",
       "\n",
       "         room_type  price  minimum_nights  number_of_reviews  \\\n",
       "0     Private room    149               1                  9   \n",
       "1  Entire home/apt    225               1                 45   \n",
       "2     Private room    150               3                  0   \n",
       "4  Entire home/apt     80              10                  9   \n",
       "5  Entire home/apt    200               3                 74   \n",
       "\n",
       "   reviews_per_month  calculated_host_listings_count  availability_365  \n",
       "0               0.21                               6               365  \n",
       "1               0.38                               2               355  \n",
       "2               0.00                               1               365  \n",
       "4               0.10                               1                 0  \n",
       "5               0.59                               1               129  "
      ]
     },
     "execution_count": 51,
     "metadata": {},
     "output_type": "execute_result"
    }
   ],
   "source": [
    "# Creating a dataframe, dropping some column in the airbnb dataset\n",
    "model_attributes = airbnb.drop(columns = ['id', 'host_name', 'name','last_review'], axis = 1).copy(deep=True)\n",
    "print(model_attributes.shape)\n",
    "model_attributes.head()"
   ]
  },
  {
   "cell_type": "markdown",
   "metadata": {},
   "source": [
    "Let's now **encode categorical variables** thanks to a **one hot encoding approach**."
   ]
  },
  {
   "cell_type": "code",
   "execution_count": 52,
   "metadata": {},
   "outputs": [
    {
     "name": "stdout",
     "output_type": "stream",
     "text": [
      "(40071, 236)\n"
     ]
    },
    {
     "data": {
      "text/html": [
       "<div>\n",
       "<style scoped>\n",
       "    .dataframe tbody tr th:only-of-type {\n",
       "        vertical-align: middle;\n",
       "    }\n",
       "\n",
       "    .dataframe tbody tr th {\n",
       "        vertical-align: top;\n",
       "    }\n",
       "\n",
       "    .dataframe thead th {\n",
       "        text-align: right;\n",
       "    }\n",
       "</style>\n",
       "<table border=\"1\" class=\"dataframe\">\n",
       "  <thead>\n",
       "    <tr style=\"text-align: right;\">\n",
       "      <th></th>\n",
       "      <th>host_id</th>\n",
       "      <th>latitude</th>\n",
       "      <th>longitude</th>\n",
       "      <th>price</th>\n",
       "      <th>minimum_nights</th>\n",
       "      <th>number_of_reviews</th>\n",
       "      <th>reviews_per_month</th>\n",
       "      <th>calculated_host_listings_count</th>\n",
       "      <th>availability_365</th>\n",
       "      <th>boro_Bronx</th>\n",
       "      <th>...</th>\n",
       "      <th>neig_Williamsbridge</th>\n",
       "      <th>neig_Williamsburg</th>\n",
       "      <th>neig_Willowbrook</th>\n",
       "      <th>neig_Windsor Terrace</th>\n",
       "      <th>neig_Woodhaven</th>\n",
       "      <th>neig_Woodlawn</th>\n",
       "      <th>neig_Woodside</th>\n",
       "      <th>room_Entire home/apt</th>\n",
       "      <th>room_Private room</th>\n",
       "      <th>room_Shared room</th>\n",
       "    </tr>\n",
       "  </thead>\n",
       "  <tbody>\n",
       "    <tr>\n",
       "      <th>0</th>\n",
       "      <td>2787</td>\n",
       "      <td>40.64749</td>\n",
       "      <td>-73.97237</td>\n",
       "      <td>149</td>\n",
       "      <td>1</td>\n",
       "      <td>9</td>\n",
       "      <td>0.21</td>\n",
       "      <td>6</td>\n",
       "      <td>365</td>\n",
       "      <td>0</td>\n",
       "      <td>...</td>\n",
       "      <td>0</td>\n",
       "      <td>0</td>\n",
       "      <td>0</td>\n",
       "      <td>0</td>\n",
       "      <td>0</td>\n",
       "      <td>0</td>\n",
       "      <td>0</td>\n",
       "      <td>0</td>\n",
       "      <td>1</td>\n",
       "      <td>0</td>\n",
       "    </tr>\n",
       "    <tr>\n",
       "      <th>1</th>\n",
       "      <td>2845</td>\n",
       "      <td>40.75362</td>\n",
       "      <td>-73.98377</td>\n",
       "      <td>225</td>\n",
       "      <td>1</td>\n",
       "      <td>45</td>\n",
       "      <td>0.38</td>\n",
       "      <td>2</td>\n",
       "      <td>355</td>\n",
       "      <td>0</td>\n",
       "      <td>...</td>\n",
       "      <td>0</td>\n",
       "      <td>0</td>\n",
       "      <td>0</td>\n",
       "      <td>0</td>\n",
       "      <td>0</td>\n",
       "      <td>0</td>\n",
       "      <td>0</td>\n",
       "      <td>1</td>\n",
       "      <td>0</td>\n",
       "      <td>0</td>\n",
       "    </tr>\n",
       "    <tr>\n",
       "      <th>2</th>\n",
       "      <td>4632</td>\n",
       "      <td>40.80902</td>\n",
       "      <td>-73.94190</td>\n",
       "      <td>150</td>\n",
       "      <td>3</td>\n",
       "      <td>0</td>\n",
       "      <td>0.00</td>\n",
       "      <td>1</td>\n",
       "      <td>365</td>\n",
       "      <td>0</td>\n",
       "      <td>...</td>\n",
       "      <td>0</td>\n",
       "      <td>0</td>\n",
       "      <td>0</td>\n",
       "      <td>0</td>\n",
       "      <td>0</td>\n",
       "      <td>0</td>\n",
       "      <td>0</td>\n",
       "      <td>0</td>\n",
       "      <td>1</td>\n",
       "      <td>0</td>\n",
       "    </tr>\n",
       "    <tr>\n",
       "      <th>4</th>\n",
       "      <td>7192</td>\n",
       "      <td>40.79851</td>\n",
       "      <td>-73.94399</td>\n",
       "      <td>80</td>\n",
       "      <td>10</td>\n",
       "      <td>9</td>\n",
       "      <td>0.10</td>\n",
       "      <td>1</td>\n",
       "      <td>0</td>\n",
       "      <td>0</td>\n",
       "      <td>...</td>\n",
       "      <td>0</td>\n",
       "      <td>0</td>\n",
       "      <td>0</td>\n",
       "      <td>0</td>\n",
       "      <td>0</td>\n",
       "      <td>0</td>\n",
       "      <td>0</td>\n",
       "      <td>1</td>\n",
       "      <td>0</td>\n",
       "      <td>0</td>\n",
       "    </tr>\n",
       "    <tr>\n",
       "      <th>5</th>\n",
       "      <td>7322</td>\n",
       "      <td>40.74767</td>\n",
       "      <td>-73.97500</td>\n",
       "      <td>200</td>\n",
       "      <td>3</td>\n",
       "      <td>74</td>\n",
       "      <td>0.59</td>\n",
       "      <td>1</td>\n",
       "      <td>129</td>\n",
       "      <td>0</td>\n",
       "      <td>...</td>\n",
       "      <td>0</td>\n",
       "      <td>0</td>\n",
       "      <td>0</td>\n",
       "      <td>0</td>\n",
       "      <td>0</td>\n",
       "      <td>0</td>\n",
       "      <td>0</td>\n",
       "      <td>1</td>\n",
       "      <td>0</td>\n",
       "      <td>0</td>\n",
       "    </tr>\n",
       "  </tbody>\n",
       "</table>\n",
       "<p>5 rows × 236 columns</p>\n",
       "</div>"
      ],
      "text/plain": [
       "   host_id  latitude  longitude  price  minimum_nights  number_of_reviews  \\\n",
       "0     2787  40.64749  -73.97237    149               1                  9   \n",
       "1     2845  40.75362  -73.98377    225               1                 45   \n",
       "2     4632  40.80902  -73.94190    150               3                  0   \n",
       "4     7192  40.79851  -73.94399     80              10                  9   \n",
       "5     7322  40.74767  -73.97500    200               3                 74   \n",
       "\n",
       "   reviews_per_month  calculated_host_listings_count  availability_365  \\\n",
       "0               0.21                               6               365   \n",
       "1               0.38                               2               355   \n",
       "2               0.00                               1               365   \n",
       "4               0.10                               1                 0   \n",
       "5               0.59                               1               129   \n",
       "\n",
       "   boro_Bronx  ...  neig_Williamsbridge  neig_Williamsburg  neig_Willowbrook  \\\n",
       "0           0  ...                    0                  0                 0   \n",
       "1           0  ...                    0                  0                 0   \n",
       "2           0  ...                    0                  0                 0   \n",
       "4           0  ...                    0                  0                 0   \n",
       "5           0  ...                    0                  0                 0   \n",
       "\n",
       "   neig_Windsor Terrace  neig_Woodhaven  neig_Woodlawn  neig_Woodside  \\\n",
       "0                     0               0              0              0   \n",
       "1                     0               0              0              0   \n",
       "2                     0               0              0              0   \n",
       "4                     0               0              0              0   \n",
       "5                     0               0              0              0   \n",
       "\n",
       "   room_Entire home/apt  room_Private room  room_Shared room  \n",
       "0                     0                  1                 0  \n",
       "1                     1                  0                 0  \n",
       "2                     0                  1                 0  \n",
       "4                     1                  0                 0  \n",
       "5                     1                  0                 0  \n",
       "\n",
       "[5 rows x 236 columns]"
      ]
     },
     "execution_count": 52,
     "metadata": {},
     "output_type": "execute_result"
    }
   ],
   "source": [
    "# Onehot encoding\n",
    "model_onehot = pd.get_dummies(model_attributes,columns=['neighbourhood_group','neighbourhood','room_type'], prefix = ['boro','neig','room'])\n",
    "print(model_onehot.shape)\n",
    "model_onehot.head()"
   ]
  },
  {
   "cell_type": "code",
   "execution_count": 53,
   "metadata": {},
   "outputs": [],
   "source": [
    "# Creating a dataframe for predictors (X) and labels (y)\n",
    "X = model_onehot.drop(columns = ['price'], axis = 1)\n",
    "y = model_onehot['price']"
   ]
  },
  {
   "cell_type": "markdown",
   "metadata": {},
   "source": [
    "Now, I will create a function which gives as output the **best splitting into train and test set** thanks to a **K-Fold Cross_validation** (exploring the best result in terms of accuracy of the model fitting).\n",
    "\n",
    "Let's recall what we mean with $R^2$. It is a statistical score representing the proportion of the variance in the dependent variable that is predictable from the independent variables.\n",
    "The best possible score is 1.0 and it can be negative (because the model can be arbitrarily worse). "
   ]
  },
  {
   "cell_type": "code",
   "execution_count": 54,
   "metadata": {},
   "outputs": [],
   "source": [
    "# K-Fold function\n",
    "def KfoldCV(X, y, nsplits=5):\n",
    "    '''This function is aimed to find the best (in an herustic sense) division between training and test sets \n",
    "    with a K-Fold CV'''\n",
    "    kf = KFold(n_splits=nsplits, shuffle=True)\n",
    "    fold_n = 1 # pointer for the number of the fold\n",
    "    lrm = LinearRegression() # estimator for LR\n",
    "    # initialization of some lists\n",
    "    r2_scores_test = []\n",
    "    train = []\n",
    "    test = []\n",
    "    print(\"\\n### {}-Folds Cross-Validation\\n\".format(kf.get_n_splits(X)))\n",
    "    for train_ids, test_ids in kf.split(X):\n",
    "        fold_n += 1\n",
    "        # Splitting data\n",
    "        X_train, X_test = np.array(X)[train_ids], np.array(X)[test_ids]\n",
    "        y_train, y_test = np.array(y)[train_ids], np.array(y)[test_ids] \n",
    "        # Fitting the model\n",
    "        lrm.fit(X_train, y_train)\n",
    "        # Storing the model\n",
    "        train.append(train_ids)\n",
    "        test.append(test_ids)\n",
    "        r2_scores_test.append(lrm.score(X_test, y_test)) #r2 for test\n",
    "    avg_r2_test = sum(r2_scores_test) / kf.get_n_splits(X)\n",
    "    r2_best_test = max(r2_scores_test)\n",
    "    train_best = train[r2_scores_test.index(r2_best_test)]\n",
    "    test_best = test[r2_scores_test.index(r2_best_test)]\n",
    "    print('Done!')\n",
    "    return(avg_r2_test, r2_best_test, train_best, test_best)"
   ]
  },
  {
   "cell_type": "code",
   "execution_count": 55,
   "metadata": {},
   "outputs": [
    {
     "name": "stdout",
     "output_type": "stream",
     "text": [
      "\n",
      "### 5-Folds Cross-Validation\n",
      "\n",
      "Done!\n"
     ]
    }
   ],
   "source": [
    "# Let's store the best result in terms of average performance, best R^2 and best training/test sets\n",
    "avg_r2_test, r2_best_test, train_best, test_best = KfoldCV(X,y)"
   ]
  },
  {
   "cell_type": "code",
   "execution_count": 56,
   "metadata": {},
   "outputs": [],
   "source": [
    "# Splitting into train and test set according to the K-fold CV\n",
    "X_train,X_test = np.array(X)[train_best], np.array(X)[test_best]\n",
    "y_train,y_test = np.array(y)[train_best], np.array(y)[test_best]\n",
    "lrm = LinearRegression() # estimator for LinearR\n",
    "alpha = .01\n",
    "lasso = Lasso(alpha=alpha, normalize=True) # estimator for LassoR\n",
    "ridge = Ridge(alpha=alpha, normalize=True) # estimator for RidgeR\n",
    "elasticnet = ElasticNet(alpha=alpha, l1_ratio=.5, normalize=True)"
   ]
  },
  {
   "cell_type": "code",
   "execution_count": null,
   "metadata": {},
   "outputs": [],
   "source": [
    "print(X_train.shape)\n",
    "print(X_test.shape)\n",
    "print(y_train.shape)\n",
    "print(y_test.shape)"
   ]
  },
  {
   "cell_type": "code",
   "execution_count": null,
   "metadata": {},
   "outputs": [],
   "source": [
    "# GridSearchCV for finding the best hyperparameters for Elastic-Net regression\n",
    "elasticnet = ElasticNet()\n",
    "parameters = {\n",
    "    'alpha': np.linspace(.1, 100., 5), \n",
    "    'l1_ratio': np.linspace(.1, 1., 5)\n",
    "    }\n",
    "gs = GridSearchCV(elasticnet, parameters, cv=5)\n",
    "gs.fit(X_train, y_train)\n",
    "elasticnet = gs.best_estimator_\n",
    "#gs.best_estimator_"
   ]
  },
  {
   "cell_type": "code",
   "execution_count": null,
   "metadata": {},
   "outputs": [],
   "source": [
    "# Comparing models in terms of R^2\n",
    "r2_test_list=[]\n",
    "print(\"Results for linear, lasso, ridge and elastic-net (in this order):\")\n",
    "for model in (lrm, lasso, ridge, elasticnet):\n",
    "    model.fit(X_train, y_train) # fitting the model\n",
    "    r2_test = model.score(X_test, y_test) # evaluating the model\n",
    "    r2_test_list.append(r2_test)\n",
    "    print(\"The r^2 score for the TEST set is: {}\".format(r2_test))"
   ]
  },
  {
   "cell_type": "code",
   "execution_count": null,
   "metadata": {},
   "outputs": [
    {
     "name": "stdout",
     "output_type": "stream",
     "text": [
      "Results for linear, lasso, ridge and elastic-net (in this order):\n"
     ]
    }
   ],
   "source": [
    "# polynomial\n",
    "from sklearn.preprocessing import PolynomialFeatures\n",
    "degree  = 2\n",
    "polyfeatures = PolynomialFeatures(degree=degree)\n",
    "X_train_poly = polyfeatures.fit_transform(X_train)\n",
    "X_test_poly = polyfeatures.transform(X_test)\n",
    "# prova con tutte non normalizzate\n",
    "lrm = LinearRegression() # estimator for LinearR\n",
    "alpha = .01\n",
    "lasso = Lasso(alpha=alpha) # estimator for LassoR\n",
    "ridge = Ridge(alpha=alpha) # estimator for RidgeR\n",
    "elasticnet = ElasticNet(alpha=alpha, l1_ratio=.5)\n",
    "# Comparing models in terms of R^2\n",
    "r2_test_list=[]\n",
    "print(\"Results for linear, lasso, ridge and elastic-net (in this order):\")\n",
    "for model in (lrm, lasso, ridge, elasticnet):\n",
    "    model.fit(X_train_poly, y_train) # fitting the model\n",
    "    r2_test = model.score(X_test_poly, y_test) # evaluating the model\n",
    "    r2_test_list.append(r2_test)\n",
    "    print(\"The r^2 score for the TEST set is: {}\".format(r2_test))"
   ]
  },
  {
   "cell_type": "markdown",
   "metadata": {},
   "source": [
    "---"
   ]
  },
  {
   "cell_type": "markdown",
   "metadata": {},
   "source": [
    "# 5. Results and conclusion"
   ]
  },
  {
   "cell_type": "markdown",
   "metadata": {},
   "source": [
    "It's time for some results, possible future developments and observations."
   ]
  },
  {
   "cell_type": "code",
   "execution_count": null,
   "metadata": {
    "scrolled": false
   },
   "outputs": [],
   "source": [
    "# Print the parameters (beta) of each model\n",
    "linearCoeff = lrm.coef_\n",
    "plt.figure()\n",
    "plt.plot(range(len(linearCoeff)), linearCoeff, 'ro')\n",
    "plt.title('Linear Regression coefficients ($R^2$ = {})'.format(r2_test_list[0]))\n",
    "\n",
    "ridgeCoeff = ridge.coef_\n",
    "plt.figure()\n",
    "plt.plot(range(len(ridgeCoeff)), ridgeCoeff, 'ro')\n",
    "plt.title('Ridge Regression coefficients ($R^2$ = {})'.format(r2_test_list[2]))\n",
    "\n",
    "lassoCoeff = lasso.coef_\n",
    "plt.figure()\n",
    "plt.plot(range(len(lassoCoeff)), lassoCoeff, 'ro')\n",
    "plt.title('Lasso Regression coefficients ($R^2$ = {})'.format(r2_test_list[1]))\n",
    "\n",
    "elasCoeff = elasticnet.coef_\n",
    "plt.figure()\n",
    "plt.plot(range(len(elasCoeff)), elasCoeff, 'ro')\n",
    "plt.title('Elastic-Net Regression coefficients ($R^2$ = {})'.format(r2_test_list[3]))\n",
    "\n",
    "plt.show()"
   ]
  },
  {
   "cell_type": "markdown",
   "metadata": {},
   "source": [
    "From the previous representation, is possible to see that the **Linear Multiple Regression** is the model which performs better. In fact, using every kind of normalization with the other models (higher regularization for **Lasso Regression**, lower for **Ridge Regression** and in a mid-range for **Elastic-Net Regression**) brings to less accurate measures in terms of $R^2$. Another useful observation is that I got just a little bit better performances in *Linear* with respect to *Ridge Regression*, due to the values of the hyperparameter $alpha$ which is very close to zero ($alpha = 0.01$).\n",
    "Indeed, higher the regularization, lower the accuracy. This is probably due to an **underfitting** problem in how our model fits the data and is confirmed by the fact that:\n",
    "- we have a **low number of predictors** (all the attributes but the target)\n",
    "- since regularization with Lasso Regression involves also **feature selection**, having some **Lasso coefficients = 0** brings to even worst results in terms of performances.\n",
    "\n"
   ]
  },
  {
   "cell_type": "markdown",
   "metadata": {},
   "source": [
    "Possible **future developments**, in order to get a better performances in predicting the price of each listing, can be:\n",
    "1. Performing a **Feature Engineering** phase, trying to create additional features to be used as useful predictors in the development of the models\n",
    "2. Trying other different **regression** models."
   ]
  },
  {
   "cell_type": "markdown",
   "metadata": {},
   "source": [
    "Before finishing, let's try to give an answer to the following questions: **What are the most informative features in predicting the price?**.\n",
    "To answer this questions we can consider two different cases:\n",
    "- **Linear Regression Coefficients**\n",
    "- **Lasso Regression Coefficients**"
   ]
  },
  {
   "cell_type": "code",
   "execution_count": null,
   "metadata": {
    "scrolled": false
   },
   "outputs": [],
   "source": [
    "# Informative features according to Linear Regression\n",
    "for i in np.abs(lrm.coef_).argsort()[-5:]:\n",
    "    print(X.iloc[:,i].name) "
   ]
  },
  {
   "cell_type": "code",
   "execution_count": null,
   "metadata": {},
   "outputs": [],
   "source": [
    "# Informative features according to Lasso Regression\n",
    "for i in np.abs(lasso.coef_).argsort()[-5:]:\n",
    "    print(X.iloc[:,i].name) "
   ]
  },
  {
   "cell_type": "markdown",
   "metadata": {},
   "source": [
    "From the coefficients of the Linear and Lasso Regression we can say that the most informative features according to both the models are the ones **connected to the location identification** and in particular:\n",
    "- the Linear Regression among all the features used in the model shows that **longitude** and **latitude** attribute are in the top 5\n",
    "- the Lasso Regression seems to discard the **latitude**, but considers the most informative feature the **longitude** as well\n",
    "- the Lasso Regression gives an high importance to the **room_type** while the Linear one does not.\n",
    "\n",
    "Hence I can say that, as already partially noticed in the **Exploratory Data Analysis**, the location spread among Eastern and Western listings in NYC has an higher influence than the North/South listings division in predicting the price. This is confirmed by the fact that NYC's area mainly extends in an *horizontal* manner."
   ]
  },
  {
   "cell_type": "code",
   "execution_count": null,
   "metadata": {},
   "outputs": [],
   "source": [
    "class Sequence():\n",
    "    def __init__(self)"
   ]
  },
  {
   "cell_type": "code",
   "execution_count": null,
   "metadata": {},
   "outputs": [],
   "source": [
    "class Sequence2(Sequence):\n",
    "    def verifica(self):\n",
    "        for i in self.s:\n",
    "            if i in 'ATCG':\n",
    "                continue\n",
    "            else:\n",
    "                return False\n",
    "        return True"
   ]
  },
  {
   "cell_type": "code",
   "execution_count": null,
   "metadata": {},
   "outputs": [],
   "source": [
    "class Sequence2(Sequence):\n",
    "    def verifica(s):\n",
    "        if set(self.s) in 'ATCG':\n",
    "             return True\n",
    "        else:\n",
    "             return False"
   ]
  },
  {
   "cell_type": "code",
   "execution_count": null,
   "metadata": {},
   "outputs": [],
   "source": [
    "x = np.ones((3,1))\n",
    "y = np.ones((3,1)).reshpae((1,3))\n"
   ]
  },
  {
   "cell_type": "code",
   "execution_count": null,
   "metadata": {},
   "outputs": [],
   "source": []
  },
  {
   "cell_type": "code",
   "execution_count": null,
   "metadata": {},
   "outputs": [],
   "source": []
  },
  {
   "cell_type": "code",
   "execution_count": null,
   "metadata": {},
   "outputs": [],
   "source": []
  }
 ],
 "metadata": {
  "kernelspec": {
   "display_name": "Python 3",
   "language": "python",
   "name": "python3"
  },
  "language_info": {
   "codemirror_mode": {
    "name": "ipython",
    "version": 3
   },
   "file_extension": ".py",
   "mimetype": "text/x-python",
   "name": "python",
   "nbconvert_exporter": "python",
   "pygments_lexer": "ipython3",
   "version": "3.8.3"
  }
 },
 "nbformat": 4,
 "nbformat_minor": 4
}
